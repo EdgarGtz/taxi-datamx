{
 "cells": [
  {
   "cell_type": "code",
   "execution_count": 1,
   "metadata": {
    "collapsed": true
   },
   "outputs": [],
   "source": [
    "import pandas as pd\n",
    "import numpy as np"
   ]
  },
  {
   "cell_type": "code",
   "execution_count": 13,
   "metadata": {
    "collapsed": false
   },
   "outputs": [],
   "source": [
    "# Upload file.\n",
    "nuevoleon = pd.read_csv('nuevoleon_raw_2015.csv', encoding = 'ISO-8859-1', skiprows = 2,\n",
    "                        dtype = {'FOLIO': str})\n",
    "\n",
    "# 'VENCIMIENTO' has a blank space at the beginning.\n",
    "nuevoleon.rename(columns={' VENCIMIENTO': 'VENCIMIENTO'}, inplace = True)\n",
    "\n",
    "# Convert data types.\n",
    "nuevoleon['VENCIMIENTO'] = pd.to_datetime(nuevoleon['VENCIMIENTO'], errors = 'coerce')\n",
    "#nuevoleon['FOLIO'] = pd.to_numeric(nuevoleon['FOLIO'], errors = 'coerce')\n",
    "\n",
    "# Reorder columns.\n",
    "nuevoleon = nuevoleon[['FOLIO', 'NOMBRE O RAZON SOCIAL DEL TITULAR', 'VENCIMIENTO', 'ESTATUS', 'OBJETO']]\n",
    "\n",
    "# Export to a csv file.\n",
    "#nuevoleon.to_csv('nuevoleon.csv', index = False)"
   ]
  },
  {
   "cell_type": "code",
   "execution_count": 14,
   "metadata": {
    "collapsed": false
   },
   "outputs": [
    {
     "data": {
      "text/plain": [
       "FOLIO                                        object\n",
       "NOMBRE O RAZON SOCIAL DEL TITULAR            object\n",
       "VENCIMIENTO                          datetime64[ns]\n",
       "ESTATUS                                      object\n",
       "OBJETO                                       object\n",
       "dtype: object"
      ]
     },
     "execution_count": 14,
     "metadata": {},
     "output_type": "execute_result"
    }
   ],
   "source": [
    "nuevoleon.dtypes"
   ]
  },
  {
   "cell_type": "code",
   "execution_count": 15,
   "metadata": {
    "collapsed": false
   },
   "outputs": [
    {
     "data": {
      "text/html": [
       "<div>\n",
       "<table border=\"1\" class=\"dataframe\">\n",
       "  <thead>\n",
       "    <tr style=\"text-align: right;\">\n",
       "      <th></th>\n",
       "      <th>FOLIO</th>\n",
       "      <th>NOMBRE O RAZON SOCIAL DEL TITULAR</th>\n",
       "      <th>VENCIMIENTO</th>\n",
       "      <th>ESTATUS</th>\n",
       "      <th>OBJETO</th>\n",
       "    </tr>\n",
       "  </thead>\n",
       "  <tbody>\n",
       "    <tr>\n",
       "      <th>0</th>\n",
       "      <td>00001</td>\n",
       "      <td>ALBERTO RODRIGUEZ SANCHEZ</td>\n",
       "      <td>2021-01-08</td>\n",
       "      <td>VIGENTE</td>\n",
       "      <td>CONCESION</td>\n",
       "    </tr>\n",
       "    <tr>\n",
       "      <th>1</th>\n",
       "      <td>00002</td>\n",
       "      <td>RUBEN CHAVEZ MOYA</td>\n",
       "      <td>2021-01-08</td>\n",
       "      <td>VIGENTE</td>\n",
       "      <td>CONCESION</td>\n",
       "    </tr>\n",
       "    <tr>\n",
       "      <th>2</th>\n",
       "      <td>00003</td>\n",
       "      <td>SERGIO ANTONIO HERNANDEZ GARCIA</td>\n",
       "      <td>2021-01-08</td>\n",
       "      <td>VIGENTE</td>\n",
       "      <td>CONCESION</td>\n",
       "    </tr>\n",
       "    <tr>\n",
       "      <th>3</th>\n",
       "      <td>00004</td>\n",
       "      <td>DAVID GINEBRA SERRABOU</td>\n",
       "      <td>2021-01-08</td>\n",
       "      <td>VIGENTE</td>\n",
       "      <td>CONCESION</td>\n",
       "    </tr>\n",
       "    <tr>\n",
       "      <th>4</th>\n",
       "      <td>00005</td>\n",
       "      <td>LUIS ROBERTO LEOS MARTINEZ</td>\n",
       "      <td>2021-01-08</td>\n",
       "      <td>VIGENTE</td>\n",
       "      <td>CONCESION</td>\n",
       "    </tr>\n",
       "  </tbody>\n",
       "</table>\n",
       "</div>"
      ],
      "text/plain": [
       "   FOLIO NOMBRE O RAZON SOCIAL DEL TITULAR VENCIMIENTO  ESTATUS     OBJETO\n",
       "0  00001         ALBERTO RODRIGUEZ SANCHEZ  2021-01-08  VIGENTE  CONCESION\n",
       "1  00002                 RUBEN CHAVEZ MOYA  2021-01-08  VIGENTE  CONCESION\n",
       "2  00003   SERGIO ANTONIO HERNANDEZ GARCIA  2021-01-08  VIGENTE  CONCESION\n",
       "3  00004            DAVID GINEBRA SERRABOU  2021-01-08  VIGENTE  CONCESION\n",
       "4  00005        LUIS ROBERTO LEOS MARTINEZ  2021-01-08  VIGENTE  CONCESION"
      ]
     },
     "execution_count": 15,
     "metadata": {},
     "output_type": "execute_result"
    }
   ],
   "source": [
    "nuevoleon.head()"
   ]
  },
  {
   "cell_type": "code",
   "execution_count": 16,
   "metadata": {
    "collapsed": false
   },
   "outputs": [
    {
     "data": {
      "text/html": [
       "<div>\n",
       "<table border=\"1\" class=\"dataframe\">\n",
       "  <thead>\n",
       "    <tr style=\"text-align: right;\">\n",
       "      <th></th>\n",
       "      <th>FOLIO</th>\n",
       "      <th>NOMBRE O RAZON SOCIAL DEL TITULAR</th>\n",
       "      <th>VENCIMIENTO</th>\n",
       "      <th>ESTATUS</th>\n",
       "      <th>OBJETO</th>\n",
       "    </tr>\n",
       "  </thead>\n",
       "  <tbody>\n",
       "    <tr>\n",
       "      <th>32248</th>\n",
       "      <td>32249</td>\n",
       "      <td>JULIAN ALEJANDRO MORENO CANTU</td>\n",
       "      <td>2017-01-12</td>\n",
       "      <td>VIGENTE</td>\n",
       "      <td>CONCESION</td>\n",
       "    </tr>\n",
       "    <tr>\n",
       "      <th>32249</th>\n",
       "      <td>32250</td>\n",
       "      <td>JAVIER  ROCHA RAMOS</td>\n",
       "      <td>2017-01-12</td>\n",
       "      <td>VIGENTE</td>\n",
       "      <td>CONCESION</td>\n",
       "    </tr>\n",
       "    <tr>\n",
       "      <th>32250</th>\n",
       "      <td>32251</td>\n",
       "      <td>JOSE LUIS MATA RODRIGUEZ</td>\n",
       "      <td>2017-01-12</td>\n",
       "      <td>VIGENTE</td>\n",
       "      <td>CONCESION</td>\n",
       "    </tr>\n",
       "    <tr>\n",
       "      <th>32251</th>\n",
       "      <td>32252</td>\n",
       "      <td>MARIO ANGEL DE LUNA RODRIGUEZ</td>\n",
       "      <td>2017-01-12</td>\n",
       "      <td>VIGENTE</td>\n",
       "      <td>CONCESION</td>\n",
       "    </tr>\n",
       "    <tr>\n",
       "      <th>32252</th>\n",
       "      <td>32253</td>\n",
       "      <td>JUAN FERNANDO LOZANO MORALES</td>\n",
       "      <td>2021-01-08</td>\n",
       "      <td>VIGENTE</td>\n",
       "      <td>CONCESION</td>\n",
       "    </tr>\n",
       "  </tbody>\n",
       "</table>\n",
       "</div>"
      ],
      "text/plain": [
       "       FOLIO NOMBRE O RAZON SOCIAL DEL TITULAR VENCIMIENTO  ESTATUS     OBJETO\n",
       "32248  32249     JULIAN ALEJANDRO MORENO CANTU  2017-01-12  VIGENTE  CONCESION\n",
       "32249  32250               JAVIER  ROCHA RAMOS  2017-01-12  VIGENTE  CONCESION\n",
       "32250  32251          JOSE LUIS MATA RODRIGUEZ  2017-01-12  VIGENTE  CONCESION\n",
       "32251  32252     MARIO ANGEL DE LUNA RODRIGUEZ  2017-01-12  VIGENTE  CONCESION\n",
       "32252  32253      JUAN FERNANDO LOZANO MORALES  2021-01-08  VIGENTE  CONCESION"
      ]
     },
     "execution_count": 16,
     "metadata": {},
     "output_type": "execute_result"
    }
   ],
   "source": [
    "nuevoleon.tail()"
   ]
  },
  {
   "cell_type": "code",
   "execution_count": null,
   "metadata": {
    "collapsed": true
   },
   "outputs": [],
   "source": []
  }
 ],
 "metadata": {
  "kernelspec": {
   "display_name": "Python 3",
   "language": "python",
   "name": "python3"
  },
  "language_info": {
   "codemirror_mode": {
    "name": "ipython",
    "version": 3
   },
   "file_extension": ".py",
   "mimetype": "text/x-python",
   "name": "python",
   "nbconvert_exporter": "python",
   "pygments_lexer": "ipython3",
   "version": "3.5.2"
  }
 },
 "nbformat": 4,
 "nbformat_minor": 0
}
