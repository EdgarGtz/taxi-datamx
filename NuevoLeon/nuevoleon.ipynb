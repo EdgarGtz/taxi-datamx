{
 "cells": [
  {
   "cell_type": "code",
   "execution_count": 1,
   "metadata": {
    "collapsed": true
   },
   "outputs": [],
   "source": [
    "import pandas as pd\n",
    "import numpy as np"
   ]
  },
  {
   "cell_type": "code",
   "execution_count": 2,
   "metadata": {
    "collapsed": false
   },
   "outputs": [],
   "source": [
    "# Upload file.\n",
    "nuevoleon = pd.read_csv('nuevoleon_raw_2015.csv', encoding = 'ISO-8859-1', skiprows = 2)\n",
    "\n",
    "# 'VENCIMIENTO' has a blank space at the beginning.\n",
    "nuevoleon.rename(columns={' VENCIMIENTO': 'VENCIMIENTO'}, inplace = True)\n",
    "\n",
    "# Modify 'FOLIO' column so that it can have an int64 data type.\n",
    "nuevoleon['FOLIO'] = nuevoleon.index \n",
    "nuevoleon.FOLIO += 1\n",
    "\n",
    "# Convert data types.\n",
    "nuevoleon['VENCIMIENTO'] = pd.to_datetime(nuevoleon['VENCIMIENTO'], errors = 'coerce')\n",
    "\n",
    "# Reorder columns.\n",
    "nuevoleon = nuevoleon[['FOLIO', 'NOMBRE O RAZON SOCIAL DEL TITULAR', 'VENCIMIENTO', 'ESTATUS', 'OBJETO']]\n",
    "\n",
    "# Export to a csv file.\n",
    "#nuevoleon.to_csv('nuevoleon.csv', index = False)"
   ]
  },
  {
   "cell_type": "code",
   "execution_count": 3,
   "metadata": {
    "collapsed": false
   },
   "outputs": [
    {
     "data": {
      "text/plain": [
       "ARRENDADORA DATAMOVIL SA DE CV                347\n",
       "SERVICIOS JMCM SA DE CV                       201\n",
       "TRANSPORTES KASAL SA DE CV                    156\n",
       "MAXI TAXI SA DE CV                            150\n",
       "TAXIS CINCO ESTRELLAS SA DE CV                150\n",
       "ELIUD QUINTANILLA LEAL                        145\n",
       "CORPORATIVO EDDY SA DE CV                     141\n",
       "ECOTAXI SA DE CV                              121\n",
       "TAXIS ECONOMICOS DE MONTERREY SA DE CV        109\n",
       "TAXI ACTIVO SA DE CV                           92\n",
       "INVERSORA Y OPERADORA DEL NORESTE SA DE CV     91\n",
       "QUALITY CAR RENT SA DE CV                      84\n",
       "AUTO PASAJE SA DE CV                           81\n",
       "TRAMOSA SA DE CV                               77\n",
       "UNION DE CHOFERES TIERRA Y LIBERTAD S.S.S.     77\n",
       "CONTROLADORA DE TAXIS SA DE CV                 72\n",
       "TAXI EXPRESS SA DE CV                          72\n",
       "TAXI CAB SA DE CV                              72\n",
       "JUAN RAMON DE LEON CAMARILLO                   71\n",
       "ARRENDADORA BERIM DEL NORTE SA DE CV           71\n",
       "TAXI DE MONTERREY SA DE CV                     70\n",
       "REGIO TAXIS Y SERVICIOS SA DE CV               69\n",
       "FERNANDO MARTINEZ GARZA                        65\n",
       "FRANCISCO JAVIER GONZALEZ CEPEDA               65\n",
       "ECOTAXIS DIRECTO SA DE CV                      65\n",
       "EDUARDO QUINTANILLA LEAL                       64\n",
       "TAXI PACTO SA DE CV                            63\n",
       "IMPULSORA MOVIL SA DE CV                       63\n",
       "ROLANDO ALBERTO MAGGI SANTARINI                63\n",
       "JANET CLEMENTINA VERSTEEG ZEBADUA              62\n",
       "                                             ... \n",
       "ESPERANZA MONTOYA GAYTAN                        1\n",
       "ELSA ROSAS PRIMO                                1\n",
       "PABLO TORRES ZUÑIGA                             1\n",
       "JOSE CARMEN MALDONADO COLIN                     1\n",
       "RAUL RINCON CORONADO                            1\n",
       "MAURICIO  GARZON  SERNA                         1\n",
       "PEDRO DAMIAN GUERRA ORTIZ                       1\n",
       "J JESUS MARTINEZ ROBLES                         1\n",
       "JOSE TRINIDAD ESPINOZA LOPEZ                    1\n",
       "ELENA CANTU LOPEZ                               1\n",
       "CLAUDIA VERONICA CANTU GONZALEZ                 1\n",
       "MA. DE LA LUZ  BANDA MARTINEZ                   1\n",
       "LUIS JULIAN BONILLA FLORES                      1\n",
       "CESAR ALEJANDRO GUTIERREZ GUERRA                1\n",
       "LUIS EDUARDO RUIZ ZAPATA                        1\n",
       "BRIGIDO GOMEZ AMADOR                            1\n",
       "EDUARDO AMADO SOLIS ORTIZ                       1\n",
       "SEFERINO RENTERIA SERRATO                       1\n",
       "JOANATAN MICHEL SAMANIEGO GONZALEZ              1\n",
       "JUAN MANUEL SALINAS SANTILLANA                  1\n",
       "RODOLFO BUSTOS LUGO                             1\n",
       "RICARDO RIVAS RUIZ                              1\n",
       "ANGELA MARIA TABORDA BOTERO                     1\n",
       "VICTOR GONZALEZ PACHECO                         1\n",
       "KARINA NALLELY MARTINEZ RODRIGUEZ               1\n",
       "SERGIO EDMUNDO ESCOBAR ENRIQUEZ                 1\n",
       "HECTOR ENRIQUE RODRIGUEZ VARGAS                 1\n",
       "JUAN NERI RAMIREZ                               1\n",
       "J ANGEL  CRUZ  ESPINOZA                         1\n",
       "JOSE DOMINGUEZ IRACHETA                         1\n",
       "Name: NOMBRE O RAZON SOCIAL DEL TITULAR, dtype: int64"
      ]
     },
     "execution_count": 3,
     "metadata": {},
     "output_type": "execute_result"
    }
   ],
   "source": [
    "nuevoleon['NOMBRE O RAZON SOCIAL DEL TITULAR'].value_counts()"
   ]
  },
  {
   "cell_type": "code",
   "execution_count": null,
   "metadata": {
    "collapsed": true
   },
   "outputs": [],
   "source": []
  }
 ],
 "metadata": {
  "kernelspec": {
   "display_name": "Python 3",
   "language": "python",
   "name": "python3"
  },
  "language_info": {
   "codemirror_mode": {
    "name": "ipython",
    "version": 3
   },
   "file_extension": ".py",
   "mimetype": "text/x-python",
   "name": "python",
   "nbconvert_exporter": "python",
   "pygments_lexer": "ipython3",
   "version": "3.5.2"
  }
 },
 "nbformat": 4,
 "nbformat_minor": 0
}
