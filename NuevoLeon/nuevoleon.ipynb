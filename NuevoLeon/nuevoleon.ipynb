{
 "cells": [
  {
   "cell_type": "code",
   "execution_count": 40,
   "metadata": {
    "collapsed": true
   },
   "outputs": [],
   "source": [
    "import pandas as pd\n",
    "import numpy as np"
   ]
  },
  {
   "cell_type": "code",
   "execution_count": 41,
   "metadata": {
    "collapsed": false
   },
   "outputs": [],
   "source": [
    "# Upload file.\n",
    "nuevoleon = pd.read_csv('nuevoleon_raw_2015.csv', encoding = 'ISO-8859-1', skiprows = 2,\n",
    "                        dtype = {'FOLIO': str})\n",
    "\n",
    "# 'VENCIMIENTO' has a blank space at the beginning.\n",
    "nuevoleon.rename(columns={' VENCIMIENTO': 'VENCIMIENTO'}, inplace = True)\n",
    "\n",
    "# Convert data types.\n",
    "nuevoleon['VENCIMIENTO'] = pd.to_datetime(nuevoleon['VENCIMIENTO'], errors = 'coerce')\n",
    "\n",
    "# Reorder columns.\n",
    "nuevoleon = nuevoleon[['FOLIO', 'NOMBRE O RAZON SOCIAL DEL TITULAR', 'VENCIMIENTO', 'ESTATUS', 'OBJETO']]\n",
    "\n",
    "#nuevoleon.to_csv('nuevoleon.csv', index = False)"
   ]
  }
 ],
 "metadata": {
  "kernelspec": {
   "display_name": "Python 3",
   "language": "python",
   "name": "python3"
  },
  "language_info": {
   "codemirror_mode": {
    "name": "ipython",
    "version": 3
   },
   "file_extension": ".py",
   "mimetype": "text/x-python",
   "name": "python",
   "nbconvert_exporter": "python",
   "pygments_lexer": "ipython3",
   "version": "3.5.2"
  }
 },
 "nbformat": 4,
 "nbformat_minor": 0
}
