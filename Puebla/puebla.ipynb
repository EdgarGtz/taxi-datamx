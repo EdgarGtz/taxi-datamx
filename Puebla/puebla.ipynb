{
 "cells": [
  {
   "cell_type": "code",
   "execution_count": 2,
   "metadata": {
    "collapsed": true
   },
   "outputs": [],
   "source": [
    "import pandas as pd\n",
    "import numpy as np"
   ]
  },
  {
   "cell_type": "code",
   "execution_count": 3,
   "metadata": {
    "collapsed": true
   },
   "outputs": [],
   "source": [
    "# Upload file. \n",
    "puebla = pd.read_csv('tabula-puebla_2016.csv')\n",
    "\n",
    "# Delete title rows. \n",
    "puebla = puebla[puebla['Permiso'] != 'Permiso']\n",
    "\n",
    "puebla_local = pd.read_csv('tabula-puebla_local_2016.csv')\n",
    "puebla_local = puebla_local[puebla_local['Permiso'] != 'Permiso']\n",
    "\n",
    "# Join both data sets. \n",
    "puebla = puebla.append(puebla_local, ignore_index = True)\n",
    "\n",
    "#puebla.to_csv('puebla.csv', index = False)"
   ]
  },
  {
   "cell_type": "code",
   "execution_count": null,
   "metadata": {
    "collapsed": true
   },
   "outputs": [],
   "source": []
  }
 ],
 "metadata": {
  "kernelspec": {
   "display_name": "Python 3",
   "language": "python",
   "name": "python3"
  },
  "language_info": {
   "codemirror_mode": {
    "name": "ipython",
    "version": 3
   },
   "file_extension": ".py",
   "mimetype": "text/x-python",
   "name": "python",
   "nbconvert_exporter": "python",
   "pygments_lexer": "ipython3",
   "version": "3.5.2"
  }
 },
 "nbformat": 4,
 "nbformat_minor": 0
}
