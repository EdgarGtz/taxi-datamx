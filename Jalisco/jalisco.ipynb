{
 "cells": [
  {
   "cell_type": "code",
   "execution_count": 4,
   "metadata": {
    "collapsed": true
   },
   "outputs": [],
   "source": [
    "import pandas as pd\n",
    "import numpy as np"
   ]
  },
  {
   "cell_type": "code",
   "execution_count": 5,
   "metadata": {
    "collapsed": false
   },
   "outputs": [],
   "source": [
    "# Upload files.\n",
    "jalisco_m = pd.read_excel('jalisco-m_raw_2016.xls', skiprows = 13)\n",
    "jalisco_f = pd.read_excel('jalisco-f_raw_2016.xls', skiprows = 13)\n",
    "\n",
    "# Add new column to differentiate zones.\n",
    "jalisco_m['Zona'] = 'Metropolitana'\n",
    "jalisco_f['Zona'] = 'Foranea'\n",
    "\n",
    "# Join both data sets.\n",
    "jalisco = jalisco_m.append(jalisco_f, ignore_index = True)\n",
    "\n",
    "# Modify 'Consecutivo' column to function as index starting from 1. \n",
    "jalisco['Cons'] = jalisco.index \n",
    "jalisco.Cons += 1\n",
    "jalisco = jalisco[['Cons', 'Permiso', 'Nombre', 'Expira el', 'Zona']]\n",
    "jalisco.rename(columns={'Cons': 'Consecutivo'}, inplace = True)\n",
    "\n",
    "# Convert data types.\n",
    "jalisco['Expira el'] = pd.to_datetime(jalisco['Expira el'], errors = 'coerce')\n",
    "\n",
    "# Export to a csv file.\n",
    "#jalisco.to_csv('jalisco.csv', index = False)"
   ]
  }
 ],
 "metadata": {
  "kernelspec": {
   "display_name": "Python 3",
   "language": "python",
   "name": "python3"
  },
  "language_info": {
   "codemirror_mode": {
    "name": "ipython",
    "version": 3
   },
   "file_extension": ".py",
   "mimetype": "text/x-python",
   "name": "python",
   "nbconvert_exporter": "python",
   "pygments_lexer": "ipython3",
   "version": "3.5.2"
  }
 },
 "nbformat": 4,
 "nbformat_minor": 0
}
