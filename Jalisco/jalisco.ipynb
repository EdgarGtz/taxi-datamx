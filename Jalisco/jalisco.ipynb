{
 "cells": [
  {
   "cell_type": "code",
   "execution_count": 11,
   "metadata": {
    "collapsed": true
   },
   "outputs": [],
   "source": [
    "import pandas as pd\n",
    "import numpy as np"
   ]
  },
  {
   "cell_type": "code",
   "execution_count": 18,
   "metadata": {
    "collapsed": false
   },
   "outputs": [],
   "source": [
    "# Upload files.\n",
    "jalisco_m = pd.read_excel('jalisco-m_raw_2016.xls', skiprows = 13)\n",
    "jalisco_f = pd.read_excel('jalisco-f_raw_2016.xls', skiprows = 13)\n",
    "\n",
    "# Add new column to differentiate zones.\n",
    "jalisco_m['Zona'] = 'Metropolitana'\n",
    "jalisco_f['Zona'] = 'Foranea'\n",
    "\n",
    "# Join both data sets.\n",
    "jalisco = jalisco_m.append(jalisco_f, ignore_index = True)\n",
    "\n",
    "# Modify 'Consecutivo' column to function as index starting from 1. \n",
    "jalisco['Cons'] = jalisco.index \n",
    "jalisco.Cons += 1\n",
    "jalisco = jalisco[['Cons', 'Permiso', 'Nombre', 'Expira el', 'Zona']]\n",
    "jalisco.rename(columns={'Cons': 'Consecutivo'}, inplace = True)\n",
    "\n",
    "# Export to a csv file.\n",
    "#jalisco.to_csv('jalisco.csv', index = False, date_format = '%m/%d/%Y')"
   ]
  },
  {
   "cell_type": "code",
   "execution_count": 19,
   "metadata": {
    "collapsed": false
   },
   "outputs": [
    {
     "data": {
      "text/html": [
       "<div>\n",
       "<table border=\"1\" class=\"dataframe\">\n",
       "  <thead>\n",
       "    <tr style=\"text-align: right;\">\n",
       "      <th></th>\n",
       "      <th>Consecutivo</th>\n",
       "      <th>Permiso</th>\n",
       "      <th>Nombre</th>\n",
       "      <th>Expira el</th>\n",
       "      <th>Zona</th>\n",
       "    </tr>\n",
       "  </thead>\n",
       "  <tbody>\n",
       "    <tr>\n",
       "      <th>1</th>\n",
       "      <td>1</td>\n",
       "      <td>17TX-098/74</td>\n",
       "      <td>MACIAS HERNANDEZ GABRIEL</td>\n",
       "      <td>2027-01-31 00:00:00</td>\n",
       "      <td>Metropolitana</td>\n",
       "    </tr>\n",
       "    <tr>\n",
       "      <th>2</th>\n",
       "      <td>2</td>\n",
       "      <td>71TX-039/20</td>\n",
       "      <td>CORTEZ RODRIGUEZ JOSE MARIA</td>\n",
       "      <td>2027-01-03 00:00:00</td>\n",
       "      <td>Metropolitana</td>\n",
       "    </tr>\n",
       "    <tr>\n",
       "      <th>3</th>\n",
       "      <td>3</td>\n",
       "      <td>28TX-039/13</td>\n",
       "      <td>DE LIRA GONZALEZ MIGUEL</td>\n",
       "      <td>2026-12-07 00:00:00</td>\n",
       "      <td>Metropolitana</td>\n",
       "    </tr>\n",
       "    <tr>\n",
       "      <th>4</th>\n",
       "      <td>4</td>\n",
       "      <td>69TX-039/46</td>\n",
       "      <td>ANGEL HERRERA MARIO</td>\n",
       "      <td>2026-11-22 00:00:00</td>\n",
       "      <td>Metropolitana</td>\n",
       "    </tr>\n",
       "    <tr>\n",
       "      <th>5</th>\n",
       "      <td>5</td>\n",
       "      <td>159TX-039/12</td>\n",
       "      <td>CAMACHO SOTO J. JESUS</td>\n",
       "      <td>2026-11-22 00:00:00</td>\n",
       "      <td>Metropolitana</td>\n",
       "    </tr>\n",
       "  </tbody>\n",
       "</table>\n",
       "</div>"
      ],
      "text/plain": [
       "   Consecutivo       Permiso                       Nombre  \\\n",
       "1            1   17TX-098/74     MACIAS HERNANDEZ GABRIEL   \n",
       "2            2   71TX-039/20  CORTEZ RODRIGUEZ JOSE MARIA   \n",
       "3            3   28TX-039/13      DE LIRA GONZALEZ MIGUEL   \n",
       "4            4   69TX-039/46          ANGEL HERRERA MARIO   \n",
       "5            5  159TX-039/12        CAMACHO SOTO J. JESUS   \n",
       "\n",
       "             Expira el           Zona  \n",
       "1  2027-01-31 00:00:00  Metropolitana  \n",
       "2  2027-01-03 00:00:00  Metropolitana  \n",
       "3  2026-12-07 00:00:00  Metropolitana  \n",
       "4  2026-11-22 00:00:00  Metropolitana  \n",
       "5  2026-11-22 00:00:00  Metropolitana  "
      ]
     },
     "execution_count": 19,
     "metadata": {},
     "output_type": "execute_result"
    }
   ],
   "source": [
    "jalisco.head()"
   ]
  },
  {
   "cell_type": "code",
   "execution_count": 20,
   "metadata": {
    "collapsed": false
   },
   "outputs": [
    {
     "data": {
      "text/plain": [
       "Consecutivo     int64\n",
       "Permiso        object\n",
       "Nombre         object\n",
       "Expira el      object\n",
       "Zona           object\n",
       "dtype: object"
      ]
     },
     "execution_count": 20,
     "metadata": {},
     "output_type": "execute_result"
    }
   ],
   "source": [
    "jalisco.dtypes"
   ]
  },
  {
   "cell_type": "code",
   "execution_count": null,
   "metadata": {
    "collapsed": true
   },
   "outputs": [],
   "source": []
  }
 ],
 "metadata": {
  "kernelspec": {
   "display_name": "Python 3",
   "language": "python",
   "name": "python3"
  },
  "language_info": {
   "codemirror_mode": {
    "name": "ipython",
    "version": 3
   },
   "file_extension": ".py",
   "mimetype": "text/x-python",
   "name": "python",
   "nbconvert_exporter": "python",
   "pygments_lexer": "ipython3",
   "version": "3.5.2"
  }
 },
 "nbformat": 4,
 "nbformat_minor": 0
}
