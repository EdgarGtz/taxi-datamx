{
 "cells": [
  {
   "cell_type": "code",
   "execution_count": 76,
   "metadata": {
    "collapsed": true
   },
   "outputs": [],
   "source": [
    "'''\n",
    "Elaborado por Israel Zuniga de la Mora\n",
    "02/Marzo/2017 @ El Cowork Mty\n",
    "github/israelzuniga\n",
    "'''\n",
    "\n",
    "import pandas as pd"
   ]
  },
  {
   "cell_type": "code",
   "execution_count": 44,
   "metadata": {
    "collapsed": true
   },
   "outputs": [],
   "source": [
    "lista_cabecera = ['XX', 'NUMERO DE PLACA', 'CONCESIONARIO', 'MUNICIPIO_DEL_SITIORUTA', \n",
    "'SITIO_O_RUTA','ECONOMICO', 'USO', 'AGRUPACION', 'FECHA_DE_ULTIMO_MOVIMIENTO', 'DESCRIPCION_DE_SUBMOVIMIENTO']"
   ]
  },
  {
   "cell_type": "code",
   "execution_count": 73,
   "metadata": {
    "collapsed": false
   },
   "outputs": [
    {
     "name": "stderr",
     "output_type": "stream",
     "text": [
      "b'Skipping line 1558: expected 10 fields, saw 11\\nSkipping line 1559: expected 10 fields, saw 11\\nSkipping line 1560: expected 10 fields, saw 11\\nSkipping line 1561: expected 10 fields, saw 11\\nSkipping line 1562: expected 10 fields, saw 11\\nSkipping line 1563: expected 10 fields, saw 11\\nSkipping line 1564: expected 10 fields, saw 11\\nSkipping line 1565: expected 10 fields, saw 11\\nSkipping line 1566: expected 10 fields, saw 11\\nSkipping line 1567: expected 10 fields, saw 11\\nSkipping line 1568: expected 10 fields, saw 11\\nSkipping line 1569: expected 10 fields, saw 11\\nSkipping line 1570: expected 10 fields, saw 11\\nSkipping line 1571: expected 10 fields, saw 11\\nSkipping line 1572: expected 10 fields, saw 11\\nSkipping line 1573: expected 10 fields, saw 11\\nSkipping line 1574: expected 10 fields, saw 11\\nSkipping line 1575: expected 10 fields, saw 11\\nSkipping line 1576: expected 10 fields, saw 11\\nSkipping line 1577: expected 10 fields, saw 11\\nSkipping line 1578: expected 10 fields, saw 11\\nSkipping line 1579: expected 10 fields, saw 11\\nSkipping line 1580: expected 10 fields, saw 11\\nSkipping line 3006: expected 10 fields, saw 11\\nSkipping line 3007: expected 10 fields, saw 11\\nSkipping line 3008: expected 10 fields, saw 11\\nSkipping line 3009: expected 10 fields, saw 11\\nSkipping line 3010: expected 10 fields, saw 11\\nSkipping line 3011: expected 10 fields, saw 11\\nSkipping line 3012: expected 10 fields, saw 11\\nSkipping line 3013: expected 10 fields, saw 11\\nSkipping line 3014: expected 10 fields, saw 11\\nSkipping line 3015: expected 10 fields, saw 11\\nSkipping line 3016: expected 10 fields, saw 11\\nSkipping line 3017: expected 10 fields, saw 11\\nSkipping line 3018: expected 10 fields, saw 11\\nSkipping line 3019: expected 10 fields, saw 11\\nSkipping line 3020: expected 10 fields, saw 11\\nSkipping line 3021: expected 10 fields, saw 11\\nSkipping line 3022: expected 10 fields, saw 11\\nSkipping line 3023: expected 10 fields, saw 11\\nSkipping line 3024: expected 10 fields, saw 11\\nSkipping line 3025: expected 10 fields, saw 11\\nSkipping line 3026: expected 10 fields, saw 11\\nSkipping line 3027: expected 10 fields, saw 11\\nSkipping line 3028: expected 10 fields, saw 11\\n'\n"
     ]
    }
   ],
   "source": [
    "colima = pd.read_csv('tabula-colima_raw(nuevo)_2016.csv', header=None, error_bad_lines=False, encoding='ISO-8859-1')\n",
    "colima.columns = lista_cabecera\n",
    "del colima['XX']\n",
    "\n",
    "\n",
    "\n",
    "\n",
    "for column in colima.keys():\n",
    "    try:\n",
    "        colima[column] = colima[column].str.replace(r'\\r', ' ')\n",
    "    except:\n",
    "        pass"
   ]
  },
  {
   "cell_type": "code",
   "execution_count": 74,
   "metadata": {
    "collapsed": false
   },
   "outputs": [
    {
     "data": {
      "text/html": [
       "<div>\n",
       "<table border=\"1\" class=\"dataframe\">\n",
       "  <thead>\n",
       "    <tr style=\"text-align: right;\">\n",
       "      <th></th>\n",
       "      <th>NUMERO DE PLACA</th>\n",
       "      <th>CONCESIONARIO</th>\n",
       "      <th>MUNICIPIO_DEL_SITIORUTA</th>\n",
       "      <th>SITIO_O_RUTA</th>\n",
       "      <th>ECONOMICO</th>\n",
       "      <th>USO</th>\n",
       "      <th>AGRUPACION</th>\n",
       "      <th>FECHA_DE_ULTIMO_MOVIMIENTO</th>\n",
       "      <th>DESCRIPCION_DE_SUBMOVIMIENTO</th>\n",
       "    </tr>\n",
       "  </thead>\n",
       "  <tbody>\n",
       "    <tr>\n",
       "      <th>0</th>\n",
       "      <td>360121D</td>\n",
       "      <td>AGUILA VARGAS ENRIQUE</td>\n",
       "      <td>COLIMA</td>\n",
       "      <td>PISCILA-LAS TRANCAS PI</td>\n",
       "      <td>1</td>\n",
       "      <td>COLECTIVO - URBANO</td>\n",
       "      <td>C.T.M.</td>\n",
       "      <td>12/08/1992</td>\n",
       "      <td>ALTA DE SERVICIO PUBLICO</td>\n",
       "    </tr>\n",
       "    <tr>\n",
       "      <th>1</th>\n",
       "      <td>8470DVA</td>\n",
       "      <td>AGUILA VAZQUEZ ROBERTO Y</td>\n",
       "      <td>COLIMA</td>\n",
       "      <td>DE LOS MAESTROS</td>\n",
       "      <td>38</td>\n",
       "      <td>INDIVIDUAL - TAXI</td>\n",
       "      <td>C.N.O.P.</td>\n",
       "      <td>29/03/2011</td>\n",
       "      <td>CANJE DE PLACAS</td>\n",
       "    </tr>\n",
       "    <tr>\n",
       "      <th>2</th>\n",
       "      <td>362795D</td>\n",
       "      <td>AGUILAR AGUILAR MA DEL CARMEN</td>\n",
       "      <td>TECOMAN</td>\n",
       "      <td>UNION DE PERMISIONARIOS AGUILAR DEL</td>\n",
       "      <td>10</td>\n",
       "      <td>COLECTIVO - URBANO</td>\n",
       "      <td>ARMERIA</td>\n",
       "      <td>27/05/2011</td>\n",
       "      <td>CANJE DE PLACAS</td>\n",
       "    </tr>\n",
       "    <tr>\n",
       "      <th>3</th>\n",
       "      <td>362793D</td>\n",
       "      <td>AGUILAR AGUILAR RAFAEL</td>\n",
       "      <td>ARMERIA</td>\n",
       "      <td>R DE LOPEZ-PARAISO- CUYUTLAN PI</td>\n",
       "      <td>8</td>\n",
       "      <td>COLECTIVO - SUBURBANO</td>\n",
       "      <td>ARMERIA</td>\n",
       "      <td>13/07/2015</td>\n",
       "      <td>CAMBIO DE UNIDAD</td>\n",
       "    </tr>\n",
       "    <tr>\n",
       "      <th>4</th>\n",
       "      <td>362924D</td>\n",
       "      <td>AGUILAR BEJINES CAROLINA</td>\n",
       "      <td>COLIMA</td>\n",
       "      <td>RUTA URB PRESTADORA DE SERV P CLASE</td>\n",
       "      <td>175</td>\n",
       "      <td>COLECTIVO - URBANO</td>\n",
       "      <td>NaN</td>\n",
       "      <td>08/06/2011</td>\n",
       "      <td>CANJE DE PLACAS</td>\n",
       "    </tr>\n",
       "  </tbody>\n",
       "</table>\n",
       "</div>"
      ],
      "text/plain": [
       "  NUMERO DE PLACA                  CONCESIONARIO MUNICIPIO_DEL_SITIORUTA  \\\n",
       "0         360121D          AGUILA VARGAS ENRIQUE                  COLIMA   \n",
       "1         8470DVA       AGUILA VAZQUEZ ROBERTO Y                  COLIMA   \n",
       "2         362795D  AGUILAR AGUILAR MA DEL CARMEN                 TECOMAN   \n",
       "3         362793D         AGUILAR AGUILAR RAFAEL                 ARMERIA   \n",
       "4         362924D       AGUILAR BEJINES CAROLINA                  COLIMA   \n",
       "\n",
       "                          SITIO_O_RUTA  ECONOMICO                    USO  \\\n",
       "0               PISCILA-LAS TRANCAS PI          1     COLECTIVO - URBANO   \n",
       "1                      DE LOS MAESTROS         38      INDIVIDUAL - TAXI   \n",
       "2  UNION DE PERMISIONARIOS AGUILAR DEL         10     COLECTIVO - URBANO   \n",
       "3      R DE LOPEZ-PARAISO- CUYUTLAN PI          8  COLECTIVO - SUBURBANO   \n",
       "4  RUTA URB PRESTADORA DE SERV P CLASE        175     COLECTIVO - URBANO   \n",
       "\n",
       "  AGRUPACION FECHA_DE_ULTIMO_MOVIMIENTO DESCRIPCION_DE_SUBMOVIMIENTO  \n",
       "0     C.T.M.                 12/08/1992     ALTA DE SERVICIO PUBLICO  \n",
       "1   C.N.O.P.                 29/03/2011              CANJE DE PLACAS  \n",
       "2    ARMERIA                 27/05/2011              CANJE DE PLACAS  \n",
       "3    ARMERIA                 13/07/2015             CAMBIO DE UNIDAD  \n",
       "4        NaN                 08/06/2011              CANJE DE PLACAS  "
      ]
     },
     "execution_count": 74,
     "metadata": {},
     "output_type": "execute_result"
    }
   ],
   "source": [
    "colima.head()"
   ]
  },
  {
   "cell_type": "code",
   "execution_count": 75,
   "metadata": {
    "collapsed": false
   },
   "outputs": [],
   "source": [
    "colima.to_csv('colima.csv')"
   ]
  },
  {
   "cell_type": "code",
   "execution_count": 79,
   "metadata": {
    "collapsed": false
   },
   "outputs": [
    {
     "name": "stdout",
     "output_type": "stream",
     "text": [
      "MD5 (colima.csv) = ecca3d8eee8bbfa8d218143a4e01a072\r\n"
     ]
    }
   ],
   "source": [
    "!md5 colima.csv"
   ]
  },
  {
   "cell_type": "code",
   "execution_count": null,
   "metadata": {
    "collapsed": true
   },
   "outputs": [],
   "source": []
  }
 ],
 "metadata": {
  "kernelspec": {
   "display_name": "Python 3",
   "language": "python",
   "name": "python3"
  },
  "language_info": {
   "codemirror_mode": {
    "name": "ipython",
    "version": 3
   },
   "file_extension": ".py",
   "mimetype": "text/x-python",
   "name": "python",
   "nbconvert_exporter": "python",
   "pygments_lexer": "ipython3",
   "version": "3.6.0"
  }
 },
 "nbformat": 4,
 "nbformat_minor": 2
}
