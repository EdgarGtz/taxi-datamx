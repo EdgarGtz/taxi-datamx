{
 "cells": [
  {
   "cell_type": "code",
   "execution_count": 1,
   "metadata": {
    "collapsed": true
   },
   "outputs": [],
   "source": [
    "import pandas as pd\n",
    "import numpy as np\n",
    "%matplotlib inline"
   ]
  },
  {
   "cell_type": "markdown",
   "metadata": {},
   "source": [
    "## Ciudad de México"
   ]
  },
  {
   "cell_type": "code",
   "execution_count": 2,
   "metadata": {
    "collapsed": false
   },
   "outputs": [],
   "source": [
    "# Upload each sheet at a time. \n",
    "ciudaddemexico_a = pd.read_excel('Data_Raw/CiudaddeMexico/ciudaddemexico_2016.xls',\n",
    "                                sheetname = 'Serie A 00002-A68888', skiprows = 2)\n",
    "ciudaddemexico_b = pd.read_excel('Data_Raw/CiudaddeMexico/ciudaddemexico_2016.xls',\n",
    "                                sheetname = 'Serie A 68889-99999')\n",
    "ciudaddemexico_c = pd.read_excel('Data_Raw/CiudaddeMexico/ciudaddemexico_2016.xls',\n",
    "                                sheetname = 'Serie B')\n",
    "ciudaddemexico_d = pd.read_excel('Data_Raw/CiudaddeMexico/ciudaddemexico_2016.xls',\n",
    "                                sheetname = 'Serie M', parse_cols = 'B:L')\n",
    "ciudaddemexico_e = pd.read_excel('Data_Raw/CiudaddeMexico/ciudaddemexico_2016.xls',\n",
    "                                sheetname = 'Taxi Preferente', parse_cols = 'B:J')\n",
    "\n",
    "# First sheet has different column names from the rest. \n",
    "ciudaddemexico_a.rename(columns={'NOMBRE DEL TITULAR y/o RAZÓN SOCIAL': 'NOMBRE'}, inplace = True)\n",
    "ciudaddemexico_a.rename(columns={'APELLIDO PATERNO': 'PATERNO'}, inplace = True)\n",
    "ciudaddemexico_a.rename(columns={'APELLIDO MATERNO': 'MATERNO'}, inplace = True)\n",
    "\n",
    "# Merge sheets.\n",
    "ciudaddemexico_ab = ciudaddemexico_a.append(ciudaddemexico_b, ignore_index = True)\n",
    "ciudaddemexico_abc = ciudaddemexico_ab.append(ciudaddemexico_c, ignore_index = True)\n",
    "ciudaddemexico_abcd = ciudaddemexico_abc.append(ciudaddemexico_d, ignore_index = True)\n",
    "ciudaddemexico = ciudaddemexico_abcd.append(ciudaddemexico_e, ignore_index = True)\n",
    "\n",
    "# Reorder columns.\n",
    "ciudaddemexico = ciudaddemexico[['PLACA', 'NOMBRE', 'PATERNO', 'MATERNO', 'RAZON SOCIAL', 'MARCA', 'LINEA', 'TIPO',\n",
    "                                 'MODELO', 'COMBUSTIBLE', 'FECHA DE INICIO', 'FECHA DE TERMINO']]\n",
    "\n",
    "#ciudaddemexico.to_csv('Data/ciudaddemexico.csv', index = False, date_format = '%m/%d/%Y')"
   ]
  },
  {
   "cell_type": "markdown",
   "metadata": {},
   "source": [
    "## Jalisco"
   ]
  },
  {
   "cell_type": "code",
   "execution_count": 3,
   "metadata": {
    "collapsed": false
   },
   "outputs": [],
   "source": [
    "jalisco_m = pd.read_excel('Data_Raw/Jalisco/jalisco-m_2016.xls', skiprows = 13)\n",
    "jalisco_f = pd.read_excel('Data_Raw/Jalisco/jalisco-f_2016.xls', skiprows = 13)\n",
    "\n",
    "# Add new column to differentiate zones.\n",
    "jalisco_m['Zona'] = 'Metropolitana'\n",
    "jalisco_f['Zona'] = 'Foranea'\n",
    "\n",
    "# Join both data sets.\n",
    "jalisco = jalisco_m.append(jalisco_f, ignore_index = True)\n",
    "\n",
    "# Modify 'Consecutivo' column to function as index starting from 1. \n",
    "jalisco['Cons'] = jalisco.index \n",
    "jalisco.Cons += 1\n",
    "jalisco = jalisco[['Cons', 'Permiso', 'Nombre', 'Expira el', 'Zona']]\n",
    "jalisco.rename(columns={'Cons': 'Consecutivo'}, inplace = True)\n",
    "\n",
    "#jalisco.to_csv('Data/jalisco.csv', index = False, date_format = '%m/%d/%Y')"
   ]
  },
  {
   "cell_type": "markdown",
   "metadata": {},
   "source": [
    "## Nuevo León"
   ]
  },
  {
   "cell_type": "code",
   "execution_count": 4,
   "metadata": {
    "collapsed": false
   },
   "outputs": [],
   "source": [
    "nuevoleon = pd.read_csv('Data_Raw/NuevoLeon/nuevoleon_2015.csv', encoding = 'ISO-8859-1', skiprows = 2,\n",
    "                        dtype = {'FOLIO': str})\n",
    "#nuevoleon.to_csv('Data/nuevoleon.csv', index = False)"
   ]
  },
  {
   "cell_type": "markdown",
   "metadata": {},
   "source": [
    "## Guanajuato"
   ]
  },
  {
   "cell_type": "code",
   "execution_count": 5,
   "metadata": {
    "collapsed": false
   },
   "outputs": [],
   "source": [
    "guanajuato = pd.read_csv('Data_Raw/Guanajuato/guanajuato_2016.csv')\n",
    "\n",
    "#guanajuato.to_csv('Data/guanajuato.csv', index = False)"
   ]
  },
  {
   "cell_type": "markdown",
   "metadata": {},
   "source": [
    "## Puebla"
   ]
  },
  {
   "cell_type": "code",
   "execution_count": 17,
   "metadata": {
    "collapsed": false
   },
   "outputs": [],
   "source": [
    "# Delete title rows. \n",
    "puebla = pd.read_csv('Data_Raw/Puebla/tabula-puebla_2016.csv')\n",
    "puebla = puebla[puebla['Permiso'] != 'Permiso']\n",
    "\n",
    "puebla_local = pd.read_csv('Data_Raw/Puebla/tabula-puebla_local_2016.csv')\n",
    "puebla_local = puebla_local[puebla_local['Permiso'] != 'Permiso']\n",
    "\n",
    "# Join both data sets. \n",
    "puebla = puebla.append(puebla_local, ignore_index = True)\n",
    "\n",
    "#puebla.to_csv('Data/puebla.csv', index = False)"
   ]
  }
 ],
 "metadata": {
  "kernelspec": {
   "display_name": "Python 3",
   "language": "python",
   "name": "python3"
  },
  "language_info": {
   "codemirror_mode": {
    "name": "ipython",
    "version": 3
   },
   "file_extension": ".py",
   "mimetype": "text/x-python",
   "name": "python",
   "nbconvert_exporter": "python",
   "pygments_lexer": "ipython3",
   "version": "3.5.2"
  }
 },
 "nbformat": 4,
 "nbformat_minor": 0
}
