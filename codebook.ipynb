{
 "cells": [
  {
   "cell_type": "code",
   "execution_count": 1,
   "metadata": {
    "collapsed": true
   },
   "outputs": [],
   "source": [
    "import pandas as pd\n",
    "import numpy as np\n",
    "%matplotlib inline"
   ]
  },
  {
   "cell_type": "markdown",
   "metadata": {},
   "source": [
    "## Ciudad de México"
   ]
  },
  {
   "cell_type": "code",
   "execution_count": 2,
   "metadata": {
    "collapsed": false
   },
   "outputs": [],
   "source": [
    "# Upload each sheet at a time. \n",
    "ciudaddemexico_a = pd.read_excel('Data_Raw/CiudaddeMexico/ciudaddemexico_2016.xls',\n",
    "                                sheetname = 'Serie A 00002-A68888', skiprows = 2)\n",
    "ciudaddemexico_b = pd.read_excel('Data_Raw/CiudaddeMexico/ciudaddemexico_2016.xls',\n",
    "                                sheetname = 'Serie A 68889-99999')\n",
    "ciudaddemexico_c = pd.read_excel('Data_Raw/CiudaddeMexico/ciudaddemexico_2016.xls',\n",
    "                                sheetname = 'Serie B')\n",
    "ciudaddemexico_d = pd.read_excel('Data_Raw/CiudaddeMexico/ciudaddemexico_2016.xls',\n",
    "                                sheetname = 'Serie M', parse_cols = 'B:L')\n",
    "ciudaddemexico_e = pd.read_excel('Data_Raw/CiudaddeMexico/ciudaddemexico_2016.xls',\n",
    "                                sheetname = 'Taxi Preferente', parse_cols = 'B:J')\n",
    "\n",
    "# First sheet has different column names from the rest. \n",
    "ciudaddemexico_a.rename(columns={'NOMBRE DEL TITULAR y/o RAZÓN SOCIAL': 'NOMBRE'}, inplace = True)\n",
    "ciudaddemexico_a.rename(columns={'APELLIDO PATERNO': 'PATERNO'}, inplace = True)\n",
    "ciudaddemexico_a.rename(columns={'APELLIDO MATERNO': 'MATERNO'}, inplace = True)\n",
    "\n",
    "# Merge sheets.\n",
    "ciudaddemexico_ab = ciudaddemexico_a.append(ciudaddemexico_b, ignore_index = True)\n",
    "ciudaddemexico_abc = ciudaddemexico_ab.append(ciudaddemexico_c, ignore_index = True)\n",
    "ciudaddemexico_abcd = ciudaddemexico_abc.append(ciudaddemexico_d, ignore_index = True)\n",
    "ciudaddemexico = ciudaddemexico_abcd.append(ciudaddemexico_e, ignore_index = True)\n",
    "\n",
    "# Reorder columns.\n",
    "ciudaddemexico = ciudaddemexico[['PLACA', 'NOMBRE', 'PATERNO', 'MATERNO', 'RAZON SOCIAL', 'MARCA', 'LINEA', 'TIPO',\n",
    "                                 'MODELO', 'COMBUSTIBLE', 'FECHA DE INICIO', 'FECHA DE TERMINO']]\n",
    "\n",
    "#ciudaddemexico.to_csv('Data/ciudaddemexico.csv', index = False, date_format = '%m/%d/%Y')"
   ]
  },
  {
   "cell_type": "markdown",
   "metadata": {},
   "source": [
    "## Jalisco"
   ]
  },
  {
   "cell_type": "code",
   "execution_count": 3,
   "metadata": {
    "collapsed": false
   },
   "outputs": [],
   "source": [
    "# Upload files.\n",
    "jalisco_m = pd.read_excel('Data_Raw/Jalisco/jalisco-m_2016.xls', skiprows = 13)\n",
    "jalisco_f = pd.read_excel('Data_Raw/Jalisco/jalisco-f_2016.xls', skiprows = 13)\n",
    "\n",
    "# Add new column to differentiate zones.\n",
    "jalisco_m['Zona'] = 'Metropolitana'\n",
    "jalisco_f['Zona'] = 'Foranea'\n",
    "\n",
    "# Join both data sets.\n",
    "jalisco = jalisco_m.append(jalisco_f, ignore_index = True)\n",
    "\n",
    "# Modify 'Consecutivo' column to function as index starting from 1. \n",
    "jalisco['Cons'] = jalisco.index \n",
    "jalisco.Cons += 1\n",
    "jalisco = jalisco[['Cons', 'Permiso', 'Nombre', 'Expira el', 'Zona']]\n",
    "jalisco.rename(columns={'Cons': 'Consecutivo'}, inplace = True)\n",
    "\n",
    "#jalisco.to_csv('Data/jalisco.csv', index = False, date_format = '%m/%d/%Y')"
   ]
  },
  {
   "cell_type": "markdown",
   "metadata": {},
   "source": [
    "## Nuevo León"
   ]
  },
  {
   "cell_type": "code",
   "execution_count": 4,
   "metadata": {
    "collapsed": false
   },
   "outputs": [],
   "source": [
    "# Upload file.\n",
    "nuevoleon = pd.read_csv('Data_Raw/NuevoLeon/nuevoleon_2015.csv', encoding = 'ISO-8859-1', skiprows = 2,\n",
    "                        dtype = {'FOLIO': str})\n",
    "\n",
    "#nuevoleon.to_csv('Data/nuevoleon.csv', index = False)"
   ]
  },
  {
   "cell_type": "markdown",
   "metadata": {},
   "source": [
    "## Guanajuato"
   ]
  },
  {
   "cell_type": "code",
   "execution_count": 5,
   "metadata": {
    "collapsed": false
   },
   "outputs": [],
   "source": [
    "# Upload file.\n",
    "guanajuato = pd.read_csv('Data_Raw/Guanajuato/guanajuato_2016.csv')\n",
    "\n",
    "#guanajuato.to_csv('Data/guanajuato.csv', index = False)"
   ]
  },
  {
   "cell_type": "markdown",
   "metadata": {},
   "source": [
    "## Puebla"
   ]
  },
  {
   "cell_type": "code",
   "execution_count": 6,
   "metadata": {
    "collapsed": false
   },
   "outputs": [],
   "source": [
    "# Upload file. \n",
    "puebla = pd.read_csv('Data_Raw/Puebla/tabula-puebla_2016.csv')\n",
    "\n",
    "# Delete title rows. \n",
    "puebla = puebla[puebla['Permiso'] != 'Permiso']\n",
    "\n",
    "puebla_local = pd.read_csv('Data_Raw/Puebla/tabula-puebla_local_2016.csv')\n",
    "puebla_local = puebla_local[puebla_local['Permiso'] != 'Permiso']\n",
    "\n",
    "# Join both data sets. \n",
    "puebla = puebla.append(puebla_local, ignore_index = True)\n",
    "\n",
    "#puebla.to_csv('Data/puebla.csv', index = False)"
   ]
  },
  {
   "cell_type": "markdown",
   "metadata": {},
   "source": [
    "## Quintana Roo"
   ]
  },
  {
   "cell_type": "code",
   "execution_count": 7,
   "metadata": {
    "collapsed": false
   },
   "outputs": [],
   "source": [
    "# Upload files.\n",
    "quintanaroo_cozumel = pd.read_csv('Data_Raw/QuintanaRoo/tabula-quintanaroo_cozumel_2016.csv')\n",
    "quintanaroo_bacalar = pd.read_csv('Data_Raw/QuintanaRoo/tabula-quintanaroo_bacalar_2016.csv')\n",
    "quintanaroo_chunhuhub = pd.read_csv('Data_Raw/QuintanaRoo/tabula-quintanaroo_chunhuhub_2016.csv')\n",
    "quintanaroo_benitojuarez = pd.read_csv('Data_Raw/QuintanaRoo/tabula-quintanaroo_benitojuarez_2016.csv')\n",
    "quintanaroo_felipecarrillopuerto = pd.read_csv('Data_Raw/QuintanaRoo/tabula-quintanaroo_felipecarrillopuerto_2016.csv')\n",
    "quintanaroo_islamujeres = pd.read_csv('Data_Raw/QuintanaRoo/tabula-quintanaroo_islamujeres_2016.csv')\n",
    "quintanaroo_josemariamorelos = pd.read_csv('Data_Raw/QuintanaRoo/tabula-quintanaroo_josemariamorelos_2016.csv')\n",
    "quintanaroo_lazarocardenas = pd.read_csv('Data_Raw/QuintanaRoo/tabula-quintanaroo_lazarocardenas_2016.csv')\n",
    "quintanaroo_othonpblanco = pd.read_csv('Data_Raw/QuintanaRoo/tabula-quintanaroo_othonpblanco_2016.csv')\n",
    "quintanaroo_puertomorelos = pd.read_csv('Data_Raw/QuintanaRoo/tabula-quintanaroo_puertomorelos_2016.csv')\n",
    "quintanaroo_solidaridad = pd.read_csv('Data_Raw/QuintanaRoo/tabula-quintanaroo_solidaridad_2016.csv')\n",
    "quintanaroo_tulum = pd.read_csv('Data_Raw/QuintanaRoo/tabula-quintanaroo_tulum_2016.csv')\n",
    "\n",
    "\n",
    "# Add missing value for Benito Juarez.\n",
    "quintanaroo_benitojuarez['DESCRIPCION DE LA CONCESION'][5454] = 'TAXI RULETERO'\n",
    "\n",
    "# Fix value on Isla Mujeres.\n",
    "quintanaroo_islamujeres['VIGENCIA'][1053] = 'ILIMITADA'\n",
    "\n",
    "# Add missing entry on Puerto Morelos.\n",
    "quintanaroo_puertomorelos['DESCRIPCION DE LA CONCESION'][51] = 'TAXI RULETERO'\n",
    "quintanaroo_puertomorelos['NOMBRE DEL BENEFICIARIO'][51] = 'ANDRES MANUEL ORTIZ MORALES'\n",
    "quintanaroo_puertomorelos['VIGENCIA'][51] = 'ILIMITADA'\n",
    "\n",
    "# Add municipalites column for each file.\n",
    "quintanaroo_cozumel['MUNICIPIO'] = 'COZUMEL'\n",
    "quintanaroo_bacalar['MUNICIPIO'] = 'BACALAR'\n",
    "quintanaroo_chunhuhub['MUNICIPIO'] = 'CHUNHUHUB'\n",
    "quintanaroo_benitojuarez['MUNICIPIO'] = 'BENITO JUAREZ'\n",
    "quintanaroo_felipecarrillopuerto['MUNICIPIO'] = 'FELIPE CARRILLO PUERTO'\n",
    "quintanaroo_islamujeres['MUNICIPIO'] = 'ISLA MUJERES'\n",
    "quintanaroo_josemariamorelos['MUNICIPIO'] = 'JOSE MARIA MORELOS'\n",
    "quintanaroo_lazarocardenas['MUNICIPIO'] = 'LAZARO CARDENAS'\n",
    "quintanaroo_othonpblanco['MUNICIPIO'] = 'OTHON P. BLANCO'\n",
    "quintanaroo_puertomorelos['MUNICIPIO'] = 'PUERTO MORELOS'\n",
    "quintanaroo_solidaridad['MUNICIPIO'] = 'SOLIDARIDAD'\n",
    "quintanaroo_tulum['MUNICIPIO'] = 'TULUM'\n",
    "\n",
    "\n",
    "# Join data sets.\n",
    "quintanaroo_a = quintanaroo_cozumel.append(quintanaroo_bacalar, ignore_index = True)\n",
    "quintanaroo_ab = quintanaroo_a.append(quintanaroo_chunhuhub, ignore_index = True)\n",
    "quintanaroo_abc = quintanaroo_ab.append(quintanaroo_benitojuarez, ignore_index = True)\n",
    "quintanaroo_abcd = quintanaroo_abc.append(quintanaroo_felipecarrillopuerto, ignore_index = True)\n",
    "quintanaroo_abcde = quintanaroo_abcd.append(quintanaroo_islamujeres, ignore_index = True)\n",
    "quintanaroo_abcdef = quintanaroo_abcde.append(quintanaroo_josemariamorelos, ignore_index = True)\n",
    "quintanaroo_abcdefg = quintanaroo_abcdef.append(quintanaroo_lazarocardenas, ignore_index = True)\n",
    "quintanaroo_abcdefgh = quintanaroo_abcdefg.append(quintanaroo_othonpblanco, ignore_index = True)\n",
    "quintanaroo_abcdefghi = quintanaroo_abcdefgh.append(quintanaroo_puertomorelos, ignore_index = True)\n",
    "quintanaroo_abcdefghij = quintanaroo_abcdefghi.append(quintanaroo_solidaridad, ignore_index = True)\n",
    "quintanaroo = quintanaroo_abcdefghij.append(quintanaroo_tulum, ignore_index = True)\n",
    "\n",
    "#quintanaroo.to_csv('Data/quintanaroo.csv', index = False)"
   ]
  },
  {
   "cell_type": "code",
   "execution_count": 8,
   "metadata": {
    "collapsed": false
   },
   "outputs": [
    {
     "name": "stdout",
     "output_type": "stream",
     "text": [
      "752\n",
      "92\n",
      "116\n",
      "7750\n",
      "314\n",
      "1066\n",
      "114\n",
      "226\n",
      "1849\n",
      "373\n",
      "2452\n",
      "896\n"
     ]
    }
   ],
   "source": [
    "print(len(quintanaroo_cozumel))\n",
    "print(len(quintanaroo_bacalar))\n",
    "print(len(quintanaroo_chunhuhub))\n",
    "print(len(quintanaroo_benitojuarez))\n",
    "print(len(quintanaroo_felipecarrillopuerto))\n",
    "print(len(quintanaroo_islamujeres))\n",
    "print(len(quintanaroo_josemariamorelos))\n",
    "print(len(quintanaroo_lazarocardenas))\n",
    "print(len(quintanaroo_othonpblanco))\n",
    "print(len(quintanaroo_puertomorelos))\n",
    "print(len(quintanaroo_solidaridad))\n",
    "print(len(quintanaroo_tulum))"
   ]
  },
  {
   "cell_type": "code",
   "execution_count": 9,
   "metadata": {
    "collapsed": false
   },
   "outputs": [
    {
     "data": {
      "text/plain": [
       "16000"
      ]
     },
     "execution_count": 9,
     "metadata": {},
     "output_type": "execute_result"
    }
   ],
   "source": [
    "752 + 92 + 116 + 7750 + 314 + 1066 + 114 + 226 + 1849 + 373 + 2452 + 896"
   ]
  },
  {
   "cell_type": "code",
   "execution_count": 10,
   "metadata": {
    "collapsed": false
   },
   "outputs": [
    {
     "data": {
      "text/html": [
       "<div>\n",
       "<table border=\"1\" class=\"dataframe\">\n",
       "  <thead>\n",
       "    <tr style=\"text-align: right;\">\n",
       "      <th></th>\n",
       "      <th>DESCRIPCION DE LA CONCESION</th>\n",
       "      <th>NOMBRE DEL BENEFICIARIO</th>\n",
       "      <th>VIGENCIA</th>\n",
       "      <th>MUNICIPIO</th>\n",
       "    </tr>\n",
       "  </thead>\n",
       "  <tbody>\n",
       "    <tr>\n",
       "      <th>count</th>\n",
       "      <td>15999</td>\n",
       "      <td>16000</td>\n",
       "      <td>16000</td>\n",
       "      <td>16000</td>\n",
       "    </tr>\n",
       "    <tr>\n",
       "      <th>unique</th>\n",
       "      <td>4</td>\n",
       "      <td>14878</td>\n",
       "      <td>1</td>\n",
       "      <td>12</td>\n",
       "    </tr>\n",
       "    <tr>\n",
       "      <th>top</th>\n",
       "      <td>TAXI RULETERO</td>\n",
       "      <td>FONDO P/LA EDUCACION Y LA CULTURA.</td>\n",
       "      <td>ILIMITADA</td>\n",
       "      <td>BENITO JUAREZ</td>\n",
       "    </tr>\n",
       "    <tr>\n",
       "      <th>freq</th>\n",
       "      <td>15162</td>\n",
       "      <td>192</td>\n",
       "      <td>16000</td>\n",
       "      <td>7750</td>\n",
       "    </tr>\n",
       "  </tbody>\n",
       "</table>\n",
       "</div>"
      ],
      "text/plain": [
       "       DESCRIPCION DE LA CONCESION             NOMBRE DEL BENEFICIARIO  \\\n",
       "count                        15999                               16000   \n",
       "unique                           4                               14878   \n",
       "top                  TAXI RULETERO  FONDO P/LA EDUCACION Y LA CULTURA.   \n",
       "freq                         15162                                 192   \n",
       "\n",
       "         VIGENCIA      MUNICIPIO  \n",
       "count       16000          16000  \n",
       "unique          1             12  \n",
       "top     ILIMITADA  BENITO JUAREZ  \n",
       "freq        16000           7750  "
      ]
     },
     "execution_count": 10,
     "metadata": {},
     "output_type": "execute_result"
    }
   ],
   "source": [
    "quintanaroo.describe()"
   ]
  },
  {
   "cell_type": "code",
   "execution_count": 11,
   "metadata": {
    "collapsed": false
   },
   "outputs": [
    {
     "data": {
      "text/html": [
       "<div>\n",
       "<table border=\"1\" class=\"dataframe\">\n",
       "  <thead>\n",
       "    <tr style=\"text-align: right;\">\n",
       "      <th></th>\n",
       "      <th>DESCRIPCION DE LA CONCESION</th>\n",
       "      <th>NOMBRE DEL BENEFICIARIO</th>\n",
       "      <th>VIGENCIA</th>\n",
       "      <th>MUNICIPIO</th>\n",
       "    </tr>\n",
       "  </thead>\n",
       "  <tbody>\n",
       "    <tr>\n",
       "      <th>0</th>\n",
       "      <td>TAXI RULETERO</td>\n",
       "      <td>MARIA LOURDES PINELO NIETO</td>\n",
       "      <td>ILIMITADA</td>\n",
       "      <td>COZUMEL</td>\n",
       "    </tr>\n",
       "    <tr>\n",
       "      <th>1</th>\n",
       "      <td>TAXI RULETERO</td>\n",
       "      <td>JUAN CARLOS PUGA ALCERRECA</td>\n",
       "      <td>ILIMITADA</td>\n",
       "      <td>COZUMEL</td>\n",
       "    </tr>\n",
       "    <tr>\n",
       "      <th>2</th>\n",
       "      <td>TAXI RULETERO</td>\n",
       "      <td>ELIAS DZUL GARCIA</td>\n",
       "      <td>ILIMITADA</td>\n",
       "      <td>COZUMEL</td>\n",
       "    </tr>\n",
       "    <tr>\n",
       "      <th>3</th>\n",
       "      <td>TAXI RULETERO</td>\n",
       "      <td>ELVIRA VILLANUEVA MENDOZA</td>\n",
       "      <td>ILIMITADA</td>\n",
       "      <td>COZUMEL</td>\n",
       "    </tr>\n",
       "    <tr>\n",
       "      <th>4</th>\n",
       "      <td>TAXI RULETERO</td>\n",
       "      <td>MARIANA MAC RIVERO</td>\n",
       "      <td>ILIMITADA</td>\n",
       "      <td>COZUMEL</td>\n",
       "    </tr>\n",
       "  </tbody>\n",
       "</table>\n",
       "</div>"
      ],
      "text/plain": [
       "  DESCRIPCION DE LA CONCESION     NOMBRE DEL BENEFICIARIO   VIGENCIA MUNICIPIO\n",
       "0               TAXI RULETERO  MARIA LOURDES PINELO NIETO  ILIMITADA   COZUMEL\n",
       "1               TAXI RULETERO  JUAN CARLOS PUGA ALCERRECA  ILIMITADA   COZUMEL\n",
       "2               TAXI RULETERO           ELIAS DZUL GARCIA  ILIMITADA   COZUMEL\n",
       "3               TAXI RULETERO   ELVIRA VILLANUEVA MENDOZA  ILIMITADA   COZUMEL\n",
       "4               TAXI RULETERO          MARIANA MAC RIVERO  ILIMITADA   COZUMEL"
      ]
     },
     "execution_count": 11,
     "metadata": {},
     "output_type": "execute_result"
    }
   ],
   "source": [
    "quintanaroo.head()"
   ]
  },
  {
   "cell_type": "code",
   "execution_count": 12,
   "metadata": {
    "collapsed": false
   },
   "outputs": [
    {
     "data": {
      "text/plain": [
       "16000"
      ]
     },
     "execution_count": 12,
     "metadata": {},
     "output_type": "execute_result"
    }
   ],
   "source": [
    "len(quintanaroo)"
   ]
  },
  {
   "cell_type": "code",
   "execution_count": null,
   "metadata": {
    "collapsed": true
   },
   "outputs": [],
   "source": []
  }
 ],
 "metadata": {
  "kernelspec": {
   "display_name": "Python 3",
   "language": "python",
   "name": "python3"
  },
  "language_info": {
   "codemirror_mode": {
    "name": "ipython",
    "version": 3
   },
   "file_extension": ".py",
   "mimetype": "text/x-python",
   "name": "python",
   "nbconvert_exporter": "python",
   "pygments_lexer": "ipython3",
   "version": "3.5.2"
  }
 },
 "nbformat": 4,
 "nbformat_minor": 0
}
