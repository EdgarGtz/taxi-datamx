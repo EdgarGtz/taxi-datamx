{
 "cells": [
  {
   "cell_type": "code",
   "execution_count": 1,
   "metadata": {
    "collapsed": true
   },
   "outputs": [],
   "source": [
    "import pandas as pd\n",
    "import numpy as np\n",
    "%matplotlib inline"
   ]
  },
  {
   "cell_type": "markdown",
   "metadata": {},
   "source": [
    "## Ciudad de México"
   ]
  },
  {
   "cell_type": "code",
   "execution_count": 2,
   "metadata": {
    "collapsed": false
   },
   "outputs": [],
   "source": [
    "# Upload each sheet at a time. \n",
    "ciudaddemexico_a = pd.read_excel('Data_Raw/CiudaddeMexico/ciudaddemexico_2016.xls',\n",
    "                                sheetname = 'Serie A 00002-A68888', skiprows = 2)\n",
    "ciudaddemexico_b = pd.read_excel('Data_Raw/CiudaddeMexico/ciudaddemexico_2016.xls',\n",
    "                                sheetname = 'Serie A 68889-99999')\n",
    "ciudaddemexico_c = pd.read_excel('Data_Raw/CiudaddeMexico/ciudaddemexico_2016.xls',\n",
    "                                sheetname = 'Serie B')\n",
    "ciudaddemexico_d = pd.read_excel('Data_Raw/CiudaddeMexico/ciudaddemexico_2016.xls',\n",
    "                                sheetname = 'Serie M', parse_cols = 'B:L')\n",
    "ciudaddemexico_e = pd.read_excel('Data_Raw/CiudaddeMexico/ciudaddemexico_2016.xls',\n",
    "                                sheetname = 'Taxi Preferente', parse_cols = 'B:J')\n",
    "\n",
    "# First sheet has different column names from the rest. \n",
    "ciudaddemexico_a.rename(columns={'NOMBRE DEL TITULAR y/o RAZÓN SOCIAL': 'NOMBRE'}, inplace = True)\n",
    "ciudaddemexico_a.rename(columns={'APELLIDO PATERNO': 'PATERNO'}, inplace = True)\n",
    "ciudaddemexico_a.rename(columns={'APELLIDO MATERNO': 'MATERNO'}, inplace = True)\n",
    "\n",
    "# Merge sheets.\n",
    "ciudaddemexico_ab = ciudaddemexico_a.append(ciudaddemexico_b, ignore_index = True)\n",
    "ciudaddemexico_abc = ciudaddemexico_ab.append(ciudaddemexico_c, ignore_index = True)\n",
    "ciudaddemexico_abcd = ciudaddemexico_abc.append(ciudaddemexico_d, ignore_index = True)\n",
    "ciudaddemexico = ciudaddemexico_abcd.append(ciudaddemexico_e, ignore_index = True)\n",
    "\n",
    "# Reorder columns.\n",
    "ciudaddemexico = ciudaddemexico[['PLACA', 'NOMBRE', 'PATERNO', 'MATERNO', 'RAZON SOCIAL', 'MARCA', 'LINEA', 'TIPO',\n",
    "                                 'MODELO', 'COMBUSTIBLE', 'FECHA DE INICIO', 'FECHA DE TERMINO']]\n",
    "\n",
    "#ciudaddemexico.to_csv('Data/ciudaddemexico.csv', index = False, date_format = '%m/%d/%Y')"
   ]
  },
  {
   "cell_type": "markdown",
   "metadata": {},
   "source": [
    "## Jalisco"
   ]
  },
  {
   "cell_type": "code",
   "execution_count": 3,
   "metadata": {
    "collapsed": false
   },
   "outputs": [],
   "source": [
    "# Upload files.\n",
    "jalisco_m = pd.read_excel('Data_Raw/Jalisco/jalisco-m_2016.xls', skiprows = 13)\n",
    "jalisco_f = pd.read_excel('Data_Raw/Jalisco/jalisco-f_2016.xls', skiprows = 13)\n",
    "\n",
    "# Add new column to differentiate zones.\n",
    "jalisco_m['Zona'] = 'Metropolitana'\n",
    "jalisco_f['Zona'] = 'Foranea'\n",
    "\n",
    "# Join both data sets.\n",
    "jalisco = jalisco_m.append(jalisco_f, ignore_index = True)\n",
    "\n",
    "# Modify 'Consecutivo' column to function as index starting from 1. \n",
    "jalisco['Cons'] = jalisco.index \n",
    "jalisco.Cons += 1\n",
    "jalisco = jalisco[['Cons', 'Permiso', 'Nombre', 'Expira el', 'Zona']]\n",
    "jalisco.rename(columns={'Cons': 'Consecutivo'}, inplace = True)\n",
    "\n",
    "#jalisco.to_csv('Data/jalisco.csv', index = False, date_format = '%m/%d/%Y')"
   ]
  },
  {
   "cell_type": "markdown",
   "metadata": {},
   "source": [
    "## Nuevo León"
   ]
  },
  {
   "cell_type": "code",
   "execution_count": 4,
   "metadata": {
    "collapsed": false
   },
   "outputs": [],
   "source": [
    "# Upload file.\n",
    "nuevoleon = pd.read_csv('Data_Raw/NuevoLeon/nuevoleon_2015.csv', encoding = 'ISO-8859-1', skiprows = 2,\n",
    "                        dtype = {'FOLIO': str})\n",
    "\n",
    "#nuevoleon.to_csv('Data/nuevoleon.csv', index = False)"
   ]
  },
  {
   "cell_type": "markdown",
   "metadata": {},
   "source": [
    "## Guanajuato"
   ]
  },
  {
   "cell_type": "code",
   "execution_count": 5,
   "metadata": {
    "collapsed": false
   },
   "outputs": [],
   "source": [
    "# Upload file.\n",
    "guanajuato = pd.read_csv('Data_Raw/Guanajuato/guanajuato_2016.csv')\n",
    "\n",
    "#guanajuato.to_csv('Data/guanajuato.csv', index = False)"
   ]
  },
  {
   "cell_type": "markdown",
   "metadata": {},
   "source": [
    "## Puebla"
   ]
  },
  {
   "cell_type": "code",
   "execution_count": 6,
   "metadata": {
    "collapsed": false
   },
   "outputs": [],
   "source": [
    "# Upload file. \n",
    "puebla = pd.read_csv('Data_Raw/Puebla/tabula-puebla_2016.csv')\n",
    "\n",
    "# Delete title rows. \n",
    "puebla = puebla[puebla['Permiso'] != 'Permiso']\n",
    "\n",
    "puebla_local = pd.read_csv('Data_Raw/Puebla/tabula-puebla_local_2016.csv')\n",
    "puebla_local = puebla_local[puebla_local['Permiso'] != 'Permiso']\n",
    "\n",
    "# Join both data sets. \n",
    "puebla = puebla.append(puebla_local, ignore_index = True)\n",
    "\n",
    "#puebla.to_csv('Data/puebla.csv', index = False)"
   ]
  },
  {
   "cell_type": "markdown",
   "metadata": {},
   "source": [
    "## Quintana Roo"
   ]
  },
  {
   "cell_type": "code",
   "execution_count": 7,
   "metadata": {
    "collapsed": false
   },
   "outputs": [],
   "source": [
    "# Upload files.\n",
    "quintanaroo_cozumel = pd.read_csv('Data_Raw/QuintanaRoo/tabula-quintanaroo_cozumel_2016.csv')\n",
    "quintanaroo_bacalar = pd.read_csv('Data_Raw/QuintanaRoo/tabula-quintanaroo_bacalar_2016.csv')\n",
    "quintanaroo_chunhuhub = pd.read_csv('Data_Raw/QuintanaRoo/tabula-quintanaroo_chunhuhub_2016.csv')\n",
    "quintanaroo_benitojuarez = pd.read_csv('Data_Raw/QuintanaRoo/tabula-quintanaroo_benitojuarez_2016.csv')\n",
    "quintanaroo_felipecarrillopuerto = pd.read_csv('Data_Raw/QuintanaRoo/tabula-quintanaroo_felipecarrillopuerto_2016.csv')\n",
    "quintanaroo_islamujeres = pd.read_csv('Data_Raw/QuintanaRoo/tabula-quintanaroo_islamujeres_2016.csv')\n",
    "quintanaroo_josemariamorelos = pd.read_csv('Data_Raw/QuintanaRoo/tabula-quintanaroo_josemariamorelos_2016.csv')\n",
    "quintanaroo_lazarocardenas = pd.read_csv('Data_Raw/QuintanaRoo/tabula-quintanaroo_lazarocardenas_2016.csv')\n",
    "quintanaroo_othonpblanco = pd.read_csv('Data_Raw/QuintanaRoo/tabula-quintanaroo_othonpblanco_2016.csv')\n",
    "quintanaroo_puertomorelos = pd.read_csv('Data_Raw/QuintanaRoo/tabula-quintanaroo_puertomorelos_2016.csv')\n",
    "quintanaroo_solidaridad = pd.read_csv('Data_Raw/QuintanaRoo/tabula-quintanaroo_solidaridad_2016.csv')\n",
    "quintanaroo_tulum = pd.read_csv('Data_Raw/QuintanaRoo/tabula-quintanaroo_tulum_2016.csv')\n",
    "\n",
    "\n",
    "# Add missing value for Benito Juarez.\n",
    "quintanaroo_benitojuarez['DESCRIPCION DE LA CONCESION'][5454] = 'TAXI RULETERO'\n",
    "\n",
    "# Fix value on Isla Mujeres.\n",
    "quintanaroo_islamujeres['VIGENCIA'][1053] = 'ILIMITADA'\n",
    "\n",
    "# Add missing entry on Puerto Morelos.\n",
    "quintanaroo_puertomorelos['DESCRIPCION DE LA CONCESION'][51] = 'TAXI RULETERO'\n",
    "quintanaroo_puertomorelos['NOMBRE DEL BENEFICIARIO'][51] = 'ANDRES MANUEL ORTIZ MORALES'\n",
    "quintanaroo_puertomorelos['VIGENCIA'][51] = 'ILIMITADA'\n",
    "\n",
    "# Add municipalites column for each file.\n",
    "quintanaroo_cozumel['MUNICIPIO'] = 'COZUMEL'\n",
    "quintanaroo_bacalar['MUNICIPIO'] = 'BACALAR'\n",
    "quintanaroo_chunhuhub['MUNICIPIO'] = 'CHUNHUHUB'\n",
    "quintanaroo_benitojuarez['MUNICIPIO'] = 'BENITO JUAREZ'\n",
    "quintanaroo_felipecarrillopuerto['MUNICIPIO'] = 'FELIPE CARRILLO PUERTO'\n",
    "quintanaroo_islamujeres['MUNICIPIO'] = 'ISLA MUJERES'\n",
    "quintanaroo_josemariamorelos['MUNICIPIO'] = 'JOSE MARIA MORELOS'\n",
    "quintanaroo_lazarocardenas['MUNICIPIO'] = 'LAZARO CARDENAS'\n",
    "quintanaroo_othonpblanco['MUNICIPIO'] = 'OTHON P. BLANCO'\n",
    "quintanaroo_puertomorelos['MUNICIPIO'] = 'PUERTO MORELOS'\n",
    "quintanaroo_solidaridad['MUNICIPIO'] = 'SOLIDARIDAD'\n",
    "quintanaroo_tulum['MUNICIPIO'] = 'TULUM'\n",
    "\n",
    "\n",
    "# Join data sets.\n",
    "quintanaroo_a = quintanaroo_cozumel.append(quintanaroo_bacalar, ignore_index = True)\n",
    "quintanaroo_ab = quintanaroo_a.append(quintanaroo_chunhuhub, ignore_index = True)\n",
    "quintanaroo_abc = quintanaroo_ab.append(quintanaroo_benitojuarez, ignore_index = True)\n",
    "quintanaroo_abcd = quintanaroo_abc.append(quintanaroo_felipecarrillopuerto, ignore_index = True)\n",
    "quintanaroo_abcde = quintanaroo_abcd.append(quintanaroo_islamujeres, ignore_index = True)\n",
    "quintanaroo_abcdef = quintanaroo_abcde.append(quintanaroo_josemariamorelos, ignore_index = True)\n",
    "quintanaroo_abcdefg = quintanaroo_abcdef.append(quintanaroo_lazarocardenas, ignore_index = True)\n",
    "quintanaroo_abcdefgh = quintanaroo_abcdefg.append(quintanaroo_othonpblanco, ignore_index = True)\n",
    "quintanaroo_abcdefghi = quintanaroo_abcdefgh.append(quintanaroo_puertomorelos, ignore_index = True)\n",
    "quintanaroo_abcdefghij = quintanaroo_abcdefghi.append(quintanaroo_solidaridad, ignore_index = True)\n",
    "quintanaroo = quintanaroo_abcdefghij.append(quintanaroo_tulum, ignore_index = True)\n",
    "\n",
    "#quintanaroo.to_csv('Data/quintanaroo.csv', index = False)"
   ]
  },
  {
   "cell_type": "markdown",
   "metadata": {},
   "source": [
    "## Colima"
   ]
  },
  {
   "cell_type": "code",
   "execution_count": 19,
   "metadata": {
    "collapsed": false
   },
   "outputs": [],
   "source": [
    "colima = pd.read_csv('Data_Raw/Colima/tabula-colima_2016.csv', quoting = csv.QUOTE_NONNUMERIC)"
   ]
  },
  {
   "cell_type": "code",
   "execution_count": 20,
   "metadata": {
    "collapsed": false
   },
   "outputs": [
    {
     "data": {
      "text/html": [
       "<div>\n",
       "<table border=\"1\" class=\"dataframe\">\n",
       "  <thead>\n",
       "    <tr style=\"text-align: right;\">\n",
       "      <th></th>\n",
       "      <th>Unnamed: 0</th>\n",
       "      <th>NUMERO DE PLACA</th>\n",
       "      <th>Unnamed: 2</th>\n",
       "      <th>CONCESIONARIO</th>\n",
       "      <th>MUNICIPIO DEL SITIORUTA</th>\n",
       "      <th>Unnamed: 5</th>\n",
       "      <th>SITIO O RUTA</th>\n",
       "      <th>ECONOMICO</th>\n",
       "      <th>Unnamed: 8</th>\n",
       "      <th>USO</th>\n",
       "      <th>AGRUPACION</th>\n",
       "      <th>FECHA DE MOVIMIENTOULTIMO</th>\n",
       "      <th>Unnamed: 12</th>\n",
       "      <th>Unnamed: 13</th>\n",
       "      <th>DESCRIPCION DE SUBMOVIMIENTO</th>\n",
       "    </tr>\n",
       "  </thead>\n",
       "  <tbody>\n",
       "    <tr>\n",
       "      <th>0</th>\n",
       "      <td>1.0</td>\n",
       "      <td>7692DVA</td>\n",
       "      <td>NaN</td>\n",
       "      <td>ABARCA BARAJAS KATIA PAULINA Y</td>\n",
       "      <td>TECOMAN</td>\n",
       "      <td>NaN</td>\n",
       "      <td>COL. INFONAVIT-LAS</td>\n",
       "      <td>128.0</td>\n",
       "      <td>NaN</td>\n",
       "      <td>INDIVIDUAL - TAXI</td>\n",
       "      <td>C.N.O.P.</td>\n",
       "      <td>21/03/2013</td>\n",
       "      <td>NaN</td>\n",
       "      <td>NaN</td>\n",
       "      <td>ENAJENACION DE DERECHOS CON</td>\n",
       "    </tr>\n",
       "    <tr>\n",
       "      <th>1</th>\n",
       "      <td>NaN</td>\n",
       "      <td>NaN</td>\n",
       "      <td>NaN</td>\n",
       "      <td>NIDIA SELENE</td>\n",
       "      <td>NaN</td>\n",
       "      <td>NaN</td>\n",
       "      <td>PALMAS</td>\n",
       "      <td>NaN</td>\n",
       "      <td>NaN</td>\n",
       "      <td>NaN</td>\n",
       "      <td>NaN</td>\n",
       "      <td>NaN</td>\n",
       "      <td>NaN</td>\n",
       "      <td>NaN</td>\n",
       "      <td>VEHICULO NUEVO</td>\n",
       "    </tr>\n",
       "    <tr>\n",
       "      <th>2</th>\n",
       "      <td>2.0</td>\n",
       "      <td>7908DVA</td>\n",
       "      <td>NaN</td>\n",
       "      <td>ACEVEDO CEJA MARIA</td>\n",
       "      <td>TECOMAN</td>\n",
       "      <td>NaN</td>\n",
       "      <td>ISSSTE</td>\n",
       "      <td>164.0</td>\n",
       "      <td>NaN</td>\n",
       "      <td>INDIVIDUAL - TAXI</td>\n",
       "      <td>C.N.O.P.</td>\n",
       "      <td>18/07/2014</td>\n",
       "      <td>NaN</td>\n",
       "      <td>NaN</td>\n",
       "      <td>CAMBIO DE UNIDAD CON VEHICULO</td>\n",
       "    </tr>\n",
       "    <tr>\n",
       "      <th>3</th>\n",
       "      <td>NaN</td>\n",
       "      <td>NaN</td>\n",
       "      <td>NaN</td>\n",
       "      <td>NaN</td>\n",
       "      <td>NaN</td>\n",
       "      <td>NaN</td>\n",
       "      <td>NaN</td>\n",
       "      <td>NaN</td>\n",
       "      <td>NaN</td>\n",
       "      <td>NaN</td>\n",
       "      <td>NaN</td>\n",
       "      <td>NaN</td>\n",
       "      <td>NaN</td>\n",
       "      <td>NaN</td>\n",
       "      <td>NUEVO</td>\n",
       "    </tr>\n",
       "    <tr>\n",
       "      <th>4</th>\n",
       "      <td>3.0</td>\n",
       "      <td>8608DVA</td>\n",
       "      <td>NaN</td>\n",
       "      <td>ACEVEDO FARIAS ELIEZER FABIEL</td>\n",
       "      <td>COLIMA</td>\n",
       "      <td>NaN</td>\n",
       "      <td>DIEZMO</td>\n",
       "      <td>15.0</td>\n",
       "      <td>NaN</td>\n",
       "      <td>INDIVIDUAL - TAXI</td>\n",
       "      <td>C.N.O.P.</td>\n",
       "      <td>24/01/2013</td>\n",
       "      <td>NaN</td>\n",
       "      <td>NaN</td>\n",
       "      <td>CAMBIO DE UNIDAD</td>\n",
       "    </tr>\n",
       "  </tbody>\n",
       "</table>\n",
       "</div>"
      ],
      "text/plain": [
       "   Unnamed: 0 NUMERO DE PLACA  Unnamed: 2                   CONCESIONARIO  \\\n",
       "0         1.0         7692DVA         NaN  ABARCA BARAJAS KATIA PAULINA Y   \n",
       "1         NaN             NaN         NaN                    NIDIA SELENE   \n",
       "2         2.0         7908DVA         NaN              ACEVEDO CEJA MARIA   \n",
       "3         NaN             NaN         NaN                             NaN   \n",
       "4         3.0         8608DVA         NaN   ACEVEDO FARIAS ELIEZER FABIEL   \n",
       "\n",
       "  MUNICIPIO DEL SITIORUTA  Unnamed: 5        SITIO O RUTA  ECONOMICO  \\\n",
       "0                 TECOMAN         NaN  COL. INFONAVIT-LAS      128.0   \n",
       "1                     NaN         NaN              PALMAS        NaN   \n",
       "2                 TECOMAN         NaN              ISSSTE      164.0   \n",
       "3                     NaN         NaN                 NaN        NaN   \n",
       "4                  COLIMA         NaN              DIEZMO       15.0   \n",
       "\n",
       "   Unnamed: 8                USO AGRUPACION FECHA DE MOVIMIENTOULTIMO  \\\n",
       "0         NaN  INDIVIDUAL - TAXI   C.N.O.P.                21/03/2013   \n",
       "1         NaN                NaN        NaN                       NaN   \n",
       "2         NaN  INDIVIDUAL - TAXI   C.N.O.P.                18/07/2014   \n",
       "3         NaN                NaN        NaN                       NaN   \n",
       "4         NaN  INDIVIDUAL - TAXI   C.N.O.P.                24/01/2013   \n",
       "\n",
       "   Unnamed: 12  Unnamed: 13   DESCRIPCION DE SUBMOVIMIENTO  \n",
       "0          NaN          NaN    ENAJENACION DE DERECHOS CON  \n",
       "1          NaN          NaN                 VEHICULO NUEVO  \n",
       "2          NaN          NaN  CAMBIO DE UNIDAD CON VEHICULO  \n",
       "3          NaN          NaN                          NUEVO  \n",
       "4          NaN          NaN               CAMBIO DE UNIDAD  "
      ]
     },
     "execution_count": 20,
     "metadata": {},
     "output_type": "execute_result"
    }
   ],
   "source": [
    "colima.head()"
   ]
  },
  {
   "cell_type": "code",
   "execution_count": 11,
   "metadata": {
    "collapsed": true
   },
   "outputs": [],
   "source": [
    "import csv"
   ]
  },
  {
   "cell_type": "code",
   "execution_count": null,
   "metadata": {
    "collapsed": true
   },
   "outputs": [],
   "source": []
  }
 ],
 "metadata": {
  "kernelspec": {
   "display_name": "Python 3",
   "language": "python",
   "name": "python3"
  },
  "language_info": {
   "codemirror_mode": {
    "name": "ipython",
    "version": 3
   },
   "file_extension": ".py",
   "mimetype": "text/x-python",
   "name": "python",
   "nbconvert_exporter": "python",
   "pygments_lexer": "ipython3",
   "version": "3.5.2"
  }
 },
 "nbformat": 4,
 "nbformat_minor": 0
}
