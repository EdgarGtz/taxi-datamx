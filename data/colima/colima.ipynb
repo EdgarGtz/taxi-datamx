{
 "cells": [
  {
   "cell_type": "code",
   "execution_count": 44,
   "metadata": {
    "collapsed": true
   },
   "outputs": [],
   "source": [
    "import pandas as pd"
   ]
  },
  {
   "cell_type": "code",
   "execution_count": 46,
   "metadata": {},
   "outputs": [],
   "source": [
    "# Upload file.\n",
    "colima = pd.read_excel('colima_raw_2017.xlsx')\n",
    "\n",
    "# Select entries referring to taxis and delete now irrelevant column.\n",
    "colima = colima[colima.txt_uso == 'INDIVIDUAL - TAXI                                 '] \n",
    "del colima['txt_uso']\n",
    "\n",
    "# Export into an xls file.\n",
    "colima.to_excel('colima.xls', index = False)\n",
    "\n",
    "# Export into a csv file. \n",
    "colima.to_csv('colima.csv', index = False)"
   ]
  }
 ],
 "metadata": {
  "kernelspec": {
   "display_name": "Python 3",
   "language": "python",
   "name": "python3"
  },
  "language_info": {
   "codemirror_mode": {
    "name": "ipython",
    "version": 3
   },
   "file_extension": ".py",
   "mimetype": "text/x-python",
   "name": "python",
   "nbconvert_exporter": "python",
   "pygments_lexer": "ipython3",
   "version": "3.6.1"
  }
 },
 "nbformat": 4,
 "nbformat_minor": 2
}
