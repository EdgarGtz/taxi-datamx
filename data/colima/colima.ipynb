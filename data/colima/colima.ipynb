{
 "cells": [
  {
   "cell_type": "code",
   "execution_count": 1,
   "metadata": {
    "collapsed": true
   },
   "outputs": [],
   "source": [
    "import pandas as pd"
   ]
  },
  {
   "cell_type": "code",
   "execution_count": 13,
   "metadata": {},
   "outputs": [],
   "source": [
    "# Use tabula to read pdf file.\n",
    "# http://tabula.technology/\n",
    "\n",
    "# Open converted csv file with excel. Upload that file with pandas. \n",
    "colima = pd.read_excel('colima_tabula.xls')\n",
    "\n",
    "# Remove carriage returns in header.\n",
    "colima.columns = ['NUMERO DE PLACA', 'CONCESIONARIO', 'MUNICIPIO DEL SITIO O RUTA', 'SITIO O RUTA', 'ECONOMICO',\n",
    "                 'USO', 'AGRUPACION', 'FECHA DE ULTIMO MOVIMIENTO', 'DESCRIPCION DE SUBMOVIMIENTO']\n",
    "\n",
    "# Select only entries referring to taxis and delete now irrelevant column.\n",
    "colima = colima[colima['USO'] == 'INDIVIDUAL - TAXI'] \n",
    "del colima['USO']\n",
    "\n",
    "# Convert data types.\n",
    "colima['FECHA DE ULTIMO MOVIMIENTO'] = pd.to_datetime(colima['FECHA DE ULTIMO MOVIMIENTO'])\n",
    "\n",
    "# Remove carriage returns in dataset.\n",
    "colima['CONCESIONARIO'] = colima['CONCESIONARIO'].str.replace(r'\\n', ' ')\n",
    "colima['MUNICIPIO DEL SITIO O RUTA'] = colima['MUNICIPIO DEL SITIO O RUTA'].str.replace(r'\\n', ' ')\n",
    "colima['SITIO O RUTA'] = colima['SITIO O RUTA'].str.replace(r'\\n', ' ')\n",
    "colima['AGRUPACION'] = colima['AGRUPACION'].str.replace(r'\\n', ' ')\n",
    "colima['DESCRIPCION DE SUBMOVIMIENTO'] = colima['DESCRIPCION DE SUBMOVIMIENTO'].str.replace(r'\\n', ' ')\n",
    "\n",
    "# Export into an xlsx file.\n",
    "colima.to_excel('colima.xls', index = False)\n",
    "\n",
    "# Export into a csv file. \n",
    "colima.to_csv('colima.csv', index = False) "
   ]
  }
 ],
 "metadata": {
  "kernelspec": {
   "display_name": "Python 3",
   "language": "python",
   "name": "python3"
  },
  "language_info": {
   "codemirror_mode": {
    "name": "ipython",
    "version": 3
   },
   "file_extension": ".py",
   "mimetype": "text/x-python",
   "name": "python",
   "nbconvert_exporter": "python",
   "pygments_lexer": "ipython3",
   "version": "3.6.1"
  }
 },
 "nbformat": 4,
 "nbformat_minor": 2
}
