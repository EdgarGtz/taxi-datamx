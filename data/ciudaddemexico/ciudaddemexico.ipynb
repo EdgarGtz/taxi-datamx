{
 "cells": [
  {
   "cell_type": "code",
   "execution_count": 1,
   "metadata": {
    "collapsed": true
   },
   "outputs": [],
   "source": [
    "import pandas as pd"
   ]
  },
  {
   "cell_type": "code",
   "execution_count": 42,
   "metadata": {},
   "outputs": [],
   "source": [
    "# Upload each sheet at a time and create a new column called 'SERIE'. \n",
    "ciudaddemexico_a = pd.read_excel('ciudaddemexico_raw_2016.xls', sheetname = 'Serie A 00002-A68888', skiprows = 2)\n",
    "ciudaddemexico_a['SERIE'] = 'A'\n",
    "ciudaddemexico_b = pd.read_excel('ciudaddemexico_raw_2016.xls', sheetname = 'Serie A 68889-99999')\n",
    "ciudaddemexico_b['SERIE'] = 'A'\n",
    "ciudaddemexico_c = pd.read_excel('ciudaddemexico_raw_2016.xls', sheetname = 'Serie B')\n",
    "ciudaddemexico_c['SERIE'] = 'B'\n",
    "ciudaddemexico_d = pd.read_excel('ciudaddemexico_raw_2016.xls', sheetname = 'Serie M', parse_cols = 'B:L')\n",
    "ciudaddemexico_d['SERIE'] = 'M'\n",
    "ciudaddemexico_e = pd.read_excel('ciudaddemexico_raw_2016.xls', sheetname = 'Taxi Preferente', parse_cols = 'B:J')\n",
    "ciudaddemexico_e['SERIE'] = 'TAXI PREFERENTE'\n",
    "\n",
    "# First and last sheet have different column names from the rest.\n",
    "ciudaddemexico_a.rename(columns={'NOMBRE DEL TITULAR y/o RAZÓN SOCIAL': 'NOMBRE'}, inplace = True)\n",
    "ciudaddemexico_a.rename(columns={'APELLIDO PATERNO': 'PATERNO'}, inplace = True)\n",
    "ciudaddemexico_a.rename(columns={'APELLIDO MATERNO': 'MATERNO'}, inplace = True)\n",
    "ciudaddemexico_e.rename(columns={'RAZON SOCIAL': 'NOMBRE'}, inplace = True)\n",
    "\n",
    "# Merge sheets and create 'SERIE' column.\n",
    "ciudaddemexico_ab = ciudaddemexico_a.append(ciudaddemexico_b, ignore_index = True)\n",
    "ciudaddemexico_abc = ciudaddemexico_ab.append(ciudaddemexico_c, ignore_index = True)\n",
    "ciudaddemexico_abcd = ciudaddemexico_abc.append(ciudaddemexico_d, ignore_index = True)\n",
    "ciudaddemexico = ciudaddemexico_abcd.append(ciudaddemexico_e, ignore_index = True)\n",
    "\n",
    "# Reorder columns.\n",
    "ciudaddemexico = ciudaddemexico[['SERIE', 'PLACA', 'NOMBRE', 'PATERNO', 'MATERNO', 'FECHA DE INICIO',\n",
    "                                 'FECHA DE TERMINO', 'TIPO', 'MARCA','LINEA', 'MODELO', 'COMBUSTIBLE']]\n",
    "\n",
    "# Export into an xlsx file.\n",
    "ciudaddemexico.to_excel('ciudaddemexico.xlsx', index = False)\n",
    "\n",
    "# Export into a csv file. \n",
    "ciudaddemexico.to_csv('ciudaddemexico.csv', index = False) "
   ]
  }
 ],
 "metadata": {
  "kernelspec": {
   "display_name": "Python 3",
   "language": "python",
   "name": "python3"
  },
  "language_info": {
   "codemirror_mode": {
    "name": "ipython",
    "version": 3
   },
   "file_extension": ".py",
   "mimetype": "text/x-python",
   "name": "python",
   "nbconvert_exporter": "python",
   "pygments_lexer": "ipython3",
   "version": "3.6.1"
  }
 },
 "nbformat": 4,
 "nbformat_minor": 2
}
