{
 "cells": [
  {
   "cell_type": "code",
   "execution_count": 1,
   "metadata": {
    "collapsed": true
   },
   "outputs": [],
   "source": [
    "import pandas as pd"
   ]
  },
  {
   "cell_type": "code",
   "execution_count": 4,
   "metadata": {},
   "outputs": [],
   "source": [
    "# Use tabula to read pdf files.\n",
    "# http://tabula.technology/\n",
    "\n",
    "# Upload converted csv files. \n",
    "puebla = pd.read_csv('puebla_tabula.csv')\n",
    "puebla_local = pd.read_csv('puebla-loc_tabula.csv')\n",
    "\n",
    "# Join data sets. \n",
    "puebla = puebla.append(puebla_local, ignore_index = True)\n",
    "\n",
    "# Export into an xlsx file.\n",
    "puebla.to_excel('puebla.xls', index = False)\n",
    "\n",
    "# Export into a csv file. \n",
    "puebla.to_csv('puebla.csv', index = False) "
   ]
  }
 ],
 "metadata": {
  "kernelspec": {
   "display_name": "Python 3",
   "language": "python",
   "name": "python3"
  },
  "language_info": {
   "codemirror_mode": {
    "name": "ipython",
    "version": 3
   },
   "file_extension": ".py",
   "mimetype": "text/x-python",
   "name": "python",
   "nbconvert_exporter": "python",
   "pygments_lexer": "ipython3",
   "version": "3.6.1"
  }
 },
 "nbformat": 4,
 "nbformat_minor": 2
}
