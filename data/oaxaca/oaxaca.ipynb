{
 "cells": [
  {
   "cell_type": "code",
   "execution_count": 98,
   "metadata": {
    "collapsed": true
   },
   "outputs": [],
   "source": [
    "import pandas as pd"
   ]
  },
  {
   "cell_type": "code",
   "execution_count": 99,
   "metadata": {
    "collapsed": true
   },
   "outputs": [],
   "source": [
    "# Use tabula to read pdf files.\n",
    "# http://tabula.technology/\n",
    "\n",
    "# Upload converted csv file.\n",
    "oaxaca = pd.read_csv('oaxaca_tabula.csv')\n",
    "\n",
    "# Remove carriage returns.\n",
    "oaxaca.rename(columns={'Numero Unico de\\rConcesionario': 'Numero Unico de Concesionario'}, inplace = True)\n",
    "oaxaca.rename(columns={'Tipo de\\rPersona': 'Tipo de Persona'}, inplace = True)\n",
    "oaxaca['Nombre del Concesionario'] = oaxaca['Nombre del Concesionario'].str.replace(r'\\r', ' ')\n",
    "oaxaca['Municipio'] = oaxaca['Municipio'].str.replace(r'\\r', ' ')\n",
    "oaxaca['Localidad'] = oaxaca['Localidad'].str.replace(r'\\r', ' ')\n",
    "\n",
    "# Select data related to taxis.\n",
    "taxi = oaxaca[oaxaca['Modalidad'] == 'TAXI']\n",
    "mototaxi = oaxaca[oaxaca['Modalidad'] == 'MOTOTAXI']\n",
    "oaxaca = taxi.append(mototaxi)\n",
    "\n",
    "# Reset index.\n",
    "oaxaca = oaxaca.reset_index(drop = True)\n",
    "\n",
    "# Export into an xlsx file.\n",
    "oaxaca.to_excel('oaxaca.xls', index = False)\n",
    "\n",
    "# Export into a csv file. \n",
    "oaxaca.to_csv('oaxaca.csv', index = False) "
   ]
  }
 ],
 "metadata": {
  "kernelspec": {
   "display_name": "Python 3",
   "language": "python",
   "name": "python3"
  },
  "language_info": {
   "codemirror_mode": {
    "name": "ipython",
    "version": 3
   },
   "file_extension": ".py",
   "mimetype": "text/x-python",
   "name": "python",
   "nbconvert_exporter": "python",
   "pygments_lexer": "ipython3",
   "version": "3.6.1"
  }
 },
 "nbformat": 4,
 "nbformat_minor": 2
}
