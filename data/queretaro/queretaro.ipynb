{
 "cells": [
  {
   "cell_type": "code",
   "execution_count": 10,
   "metadata": {
    "collapsed": true
   },
   "outputs": [],
   "source": [
    "import pandas as pd\n",
    "import numpy as np"
   ]
  },
  {
   "cell_type": "code",
   "execution_count": 29,
   "metadata": {},
   "outputs": [],
   "source": [
    "# Use tabula to read pdf files.\n",
    "# http://tabula.technology/\n",
    "\n",
    "# Upload converted csv file.\n",
    "queretaro = pd.read_csv('queretaro_tabula.csv')\n",
    "\n",
    "# Select only entries referring to taxis and delete now irrelevant column.\n",
    "queretaro = queretaro[queretaro['Modalidad'] == 'TAXI'] \n",
    "del queretaro['NO\\rCONSEC.']\n",
    "\n",
    "# Remove carriage returns.\n",
    "queretaro.rename(columns={'Nva.\\rConcesion':'Nva. Concesion'}, inplace=True)\n",
    "queretaro['Concesionario(s)'] = queretaro['Concesionario(s)'].str.replace(r'\\r', ' ')\n",
    "queretaro['Concesionario(s)'] = queretaro['Concesionario(s)'].str.replace(r'\\|\\|', '-')\n",
    "\n",
    "# Export to an xlsx file. \n",
    "queretaro.to_excel('queretaro.xlsx', index = False)\n",
    "\n",
    "# Export to a csv file. \n",
    "queretaro.to_csv('queretaro.csv', index = False)"
   ]
  }
 ],
 "metadata": {
  "kernelspec": {
   "display_name": "Python 3",
   "language": "python",
   "name": "python3"
  },
  "language_info": {
   "codemirror_mode": {
    "name": "ipython",
    "version": 3
   },
   "file_extension": ".py",
   "mimetype": "text/x-python",
   "name": "python",
   "nbconvert_exporter": "python",
   "pygments_lexer": "ipython3",
   "version": "3.6.1"
  }
 },
 "nbformat": 4,
 "nbformat_minor": 2
}
