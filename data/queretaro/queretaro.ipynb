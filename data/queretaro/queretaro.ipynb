{
 "cells": [
  {
   "cell_type": "code",
   "execution_count": 45,
   "metadata": {
    "collapsed": true
   },
   "outputs": [],
   "source": [
    "import pandas as pd"
   ]
  },
  {
   "cell_type": "code",
   "execution_count": 53,
   "metadata": {},
   "outputs": [],
   "source": [
    "# Use tabula to read pdf files.\n",
    "# http://tabula.technology/\n",
    "\n",
    "# Upload converted csv file.\n",
    "queretaro = pd.read_csv('queretaro_tabula.csv')\n",
    "\n",
    "# Select only entries referring to taxis and delete 'Consecutive' column.\n",
    "queretaro = queretaro[queretaro['Modalidad'] == 'TAXI'] \n",
    "\n",
    "# Remove carriage returns.\n",
    "queretaro.rename(columns={'No.\\rConsec.':'No. Consec.'}, inplace = True)\n",
    "queretaro.rename(columns={'Concesión\\rAnterior':'Concesion Anterior'}, inplace = True)\n",
    "queretaro.rename(columns={'Nva.\\rConcesion':'Nva. Concesion'}, inplace = True)\n",
    "queretaro.rename(columns={'Tipo\\rModalidad':'Tipo Modalidad'}, inplace = True)\n",
    "queretaro['Municipio'] = queretaro['Municipio'].str.replace(r'\\r', ' ')\n",
    "queretaro['Concesionario(s)'] = queretaro['Concesionario(s)'].str.replace(r'\\r', ' ')\n",
    "queretaro['Concesionario(s)'] = queretaro['Concesionario(s)'].str.replace(r'\\|\\|', '-')\n",
    "\n",
    "# Fill in missing values.\n",
    "queretaro['Tipo Modalidad'] = queretaro['Tipo Modalidad'].fillna('NA')\n",
    "queretaro['Nva. Concesion'] = queretaro['Nva. Concesion'].fillna('NA')\n",
    "queretaro['Municipio'] = queretaro['Municipio'].fillna('NA')\n",
    "queretaro['Concesionario(s)'] = queretaro['Concesionario(s)'].fillna('NA')\n",
    "queretaro['Ult. Ref.'] = queretaro['Ult. Ref.'].fillna('NA')\n",
    "\n",
    "# Export into an xls file. \n",
    "queretaro.to_excel('queretaro.xls', index = False)\n",
    "\n",
    "# Export into a csv file. \n",
    "queretaro.to_csv('queretaro.csv', index = False)"
   ]
  }
 ],
 "metadata": {
  "kernelspec": {
   "display_name": "Python 3",
   "language": "python",
   "name": "python3"
  },
  "language_info": {
   "codemirror_mode": {
    "name": "ipython",
    "version": 3
   },
   "file_extension": ".py",
   "mimetype": "text/x-python",
   "name": "python",
   "nbconvert_exporter": "python",
   "pygments_lexer": "ipython3",
   "version": "3.6.1"
  }
 },
 "nbformat": 4,
 "nbformat_minor": 2
}
