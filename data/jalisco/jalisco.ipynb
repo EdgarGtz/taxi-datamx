{
 "cells": [
  {
   "cell_type": "code",
   "execution_count": 1,
   "metadata": {
    "collapsed": true
   },
   "outputs": [],
   "source": [
    "import pandas as pd"
   ]
  },
  {
   "cell_type": "code",
   "execution_count": 2,
   "metadata": {
    "collapsed": false
   },
   "outputs": [],
   "source": [
    "# Upload files.\n",
    "jalisco_met = pd.read_excel('jalisco_met_raw_2016.xls', skiprows = 13)\n",
    "jalisco_for = pd.read_excel('jalisco_for_raw_2016.xls', skiprows = 13)\n",
    "\n",
    "# Add new column to differentiate zones.\n",
    "jalisco_met['Zona'] = 'Metropolitana'\n",
    "jalisco_for['Zona'] = 'Foranea'\n",
    "\n",
    "# Join both data sets.\n",
    "jalisco = jalisco_met.append(jalisco_for, ignore_index = True)\n",
    "\n",
    "# Modify 'Consecutivo' column to function as index starting from 1. \n",
    "jalisco['Cons'] = jalisco.index \n",
    "jalisco.Cons += 1\n",
    "jalisco = jalisco[['Cons', 'Permiso', 'Nombre', 'Expira el', 'Zona']]\n",
    "jalisco.rename(columns={'Cons': 'Consecutivo'}, inplace = True)\n",
    "\n",
    "# Reorder columns.\n",
    "jalisco = jalisco[['Consecutivo', 'Nombre', 'Expira el', 'Zona', 'Permiso']]\n",
    "\n",
    "# Rename columns.\n",
    "jalisco.columns = ['id', 'nombre', 'vencimiento', 'zona', 'permiso']\n",
    "\n",
    "# Convert data types.\n",
    "jalisco.vencimiento = pd.to_datetime(jalisco.vencimiento, errors = 'coerce')\n",
    "\n",
    "# Convert text values to lower case.\n",
    "jalisco.nombre = jalisco.nombre.str.lower()\n",
    "jalisco.zona = jalisco.zona.str.lower()\n",
    "\n",
    "# Export into a csv file.\n",
    "#jalisco.to_csv('jalisco.csv', index = False)"
   ]
  }
 ],
 "metadata": {
  "kernelspec": {
   "display_name": "Python 3",
   "language": "python",
   "name": "python3"
  },
  "language_info": {
   "codemirror_mode": {
    "name": "ipython",
    "version": 3
   },
   "file_extension": ".py",
   "mimetype": "text/x-python",
   "name": "python",
   "nbconvert_exporter": "python",
   "pygments_lexer": "ipython3",
   "version": "3.5.2"
  }
 },
 "nbformat": 4,
 "nbformat_minor": 0
}
