{
 "cells": [
  {
   "cell_type": "code",
   "execution_count": 1,
   "metadata": {
    "collapsed": true
   },
   "outputs": [],
   "source": [
    "import pandas as pd\n",
    "import numpy as np"
   ]
  },
  {
   "cell_type": "code",
   "execution_count": 28,
   "metadata": {
    "collapsed": false
   },
   "outputs": [],
   "source": [
    "# Upload files.\n",
    "quintanaroo_cozumel = pd.read_csv('tabula-quintanaroo_cozumel_2016.csv')\n",
    "quintanaroo_bacalar = pd.read_csv('tabula-quintanaroo_bacalar_2016.csv')\n",
    "quintanaroo_chunhuhub = pd.read_csv('tabula-quintanaroo_chunhuhub_2016.csv')\n",
    "quintanaroo_benitojuarez = pd.read_csv('tabula-quintanaroo_benitojuarez_2016.csv')\n",
    "quintanaroo_felipecarrillopuerto = pd.read_csv('tabula-quintanaroo_felipecarrillopuerto_2016.csv')\n",
    "quintanaroo_islamujeres = pd.read_csv('tabula-quintanaroo_islamujeres_2016.csv')\n",
    "quintanaroo_josemariamorelos = pd.read_csv('tabula-quintanaroo_josemariamorelos_2016.csv')\n",
    "quintanaroo_lazarocardenas = pd.read_csv('tabula-quintanaroo_lazarocardenas_2016.csv')\n",
    "quintanaroo_othonpblanco = pd.read_csv('tabula-quintanaroo_othonpblanco_2016.csv')\n",
    "quintanaroo_puertomorelos = pd.read_csv('tabula-quintanaroo_puertomorelos_2016.csv')\n",
    "quintanaroo_solidaridad = pd.read_csv('tabula-quintanaroo_solidaridad_2016.csv')\n",
    "quintanaroo_tulum = pd.read_csv('tabula-quintanaroo_tulum_2016.csv')\n",
    "\n",
    "# Add missing value for Benito Juarez.\n",
    "quintanaroo_benitojuarez['DESCRIPCION DE LA CONCESION'][5454] = 'TAXI RULETERO'\n",
    "\n",
    "# Fix value on Isla Mujeres.\n",
    "quintanaroo_islamujeres['VIGENCIA'][1053] = 'ILIMITADA'\n",
    "\n",
    "# Add missing entry on Puerto Morelos.\n",
    "quintanaroo_puertomorelos['DESCRIPCION DE LA CONCESION'][51] = 'TAXI RULETERO'\n",
    "quintanaroo_puertomorelos['NOMBRE DEL BENEFICIARIO'][51] = 'ANDRES MANUEL ORTIZ MORALES'\n",
    "quintanaroo_puertomorelos['VIGENCIA'][51] = 'ILIMITADA'\n",
    "\n",
    "# Add municipalites column for each file.\n",
    "quintanaroo_cozumel['MUNICIPIO'] = 'COZUMEL'\n",
    "quintanaroo_bacalar['MUNICIPIO'] = 'BACALAR'\n",
    "quintanaroo_chunhuhub['MUNICIPIO'] = 'CHUNHUHUB'\n",
    "quintanaroo_benitojuarez['MUNICIPIO'] = 'BENITO JUAREZ'\n",
    "quintanaroo_felipecarrillopuerto['MUNICIPIO'] = 'FELIPE CARRILLO PUERTO'\n",
    "quintanaroo_islamujeres['MUNICIPIO'] = 'ISLA MUJERES'\n",
    "quintanaroo_josemariamorelos['MUNICIPIO'] = 'JOSE MARIA MORELOS'\n",
    "quintanaroo_lazarocardenas['MUNICIPIO'] = 'LAZARO CARDENAS'\n",
    "quintanaroo_othonpblanco['MUNICIPIO'] = 'OTHON P. BLANCO'\n",
    "quintanaroo_puertomorelos['MUNICIPIO'] = 'PUERTO MORELOS'\n",
    "quintanaroo_solidaridad['MUNICIPIO'] = 'SOLIDARIDAD'\n",
    "quintanaroo_tulum['MUNICIPIO'] = 'TULUM'\n",
    "\n",
    "# Join data sets.\n",
    "quintanaroo_a = quintanaroo_cozumel.append(quintanaroo_bacalar, ignore_index = True)\n",
    "quintanaroo_ab = quintanaroo_a.append(quintanaroo_chunhuhub, ignore_index = True)\n",
    "quintanaroo_abc = quintanaroo_ab.append(quintanaroo_benitojuarez, ignore_index = True)\n",
    "quintanaroo_abcd = quintanaroo_abc.append(quintanaroo_felipecarrillopuerto, ignore_index = True)\n",
    "quintanaroo_abcde = quintanaroo_abcd.append(quintanaroo_islamujeres, ignore_index = True)\n",
    "quintanaroo_abcdef = quintanaroo_abcde.append(quintanaroo_josemariamorelos, ignore_index = True)\n",
    "quintanaroo_abcdefg = quintanaroo_abcdef.append(quintanaroo_lazarocardenas, ignore_index = True)\n",
    "quintanaroo_abcdefgh = quintanaroo_abcdefg.append(quintanaroo_othonpblanco, ignore_index = True)\n",
    "quintanaroo_abcdefghi = quintanaroo_abcdefgh.append(quintanaroo_puertomorelos, ignore_index = True)\n",
    "quintanaroo_abcdefghij = quintanaroo_abcdefghi.append(quintanaroo_solidaridad, ignore_index = True)\n",
    "quintanaroo = quintanaroo_abcdefghij.append(quintanaroo_tulum, ignore_index = True)\n",
    "\n",
    "# Add an id column.\n",
    "quintanaroo['ID'] = quintanaroo.index \n",
    "quintanaroo.ID += 1\n",
    "\n",
    "# Reorder columns.\n",
    "quintanaroo = quintanaroo[['ID', 'NOMBRE DEL BENEFICIARIO', 'VIGENCIA', 'DESCRIPCION DE LA CONCESION', \n",
    "                           'MUNICIPIO']]\n",
    "\n",
    "#quintanaroo.to_csv('quintanaroo.csv', index = False)"
   ]
  }
 ],
 "metadata": {
  "kernelspec": {
   "display_name": "Python 3",
   "language": "python",
   "name": "python3"
  },
  "language_info": {
   "codemirror_mode": {
    "name": "ipython",
    "version": 3
   },
   "file_extension": ".py",
   "mimetype": "text/x-python",
   "name": "python",
   "nbconvert_exporter": "python",
   "pygments_lexer": "ipython3",
   "version": "3.5.2"
  }
 },
 "nbformat": 4,
 "nbformat_minor": 0
}
