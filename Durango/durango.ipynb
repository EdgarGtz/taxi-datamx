{
 "cells": [
  {
   "cell_type": "code",
   "execution_count": 1,
   "metadata": {
    "collapsed": true
   },
   "outputs": [],
   "source": [
    "import pandas as pd"
   ]
  },
  {
   "cell_type": "code",
   "execution_count": 40,
   "metadata": {
    "collapsed": false
   },
   "outputs": [],
   "source": [
    "# Use tabula to read pdf files.\n",
    "# http://tabula.technology/\n",
    "\n",
    "# Upload file.\n",
    "durango = pd.read_csv('tabula-durango_raw_2016.csv')\n",
    "\n",
    "# Convert all names to upper case letters.\n",
    "durango['NOMBRE DEL TITULAR'] = durango['NOMBRE DEL TITULAR'].str.upper()\n",
    "\n",
    "# Reorder columns.\n",
    "durango = durango[['NO_PERMISO', 'NOMBRE DEL TITULAR', 'VIGENCIA', 'MODALIDAD']]\n",
    "\n",
    "# Export to a csv file.\n",
    "#durango.to_csv('durango.csv', index = False)"
   ]
  }
 ],
 "metadata": {
  "kernelspec": {
   "display_name": "Python 3",
   "language": "python",
   "name": "python3"
  },
  "language_info": {
   "codemirror_mode": {
    "name": "ipython",
    "version": 3
   },
   "file_extension": ".py",
   "mimetype": "text/x-python",
   "name": "python",
   "nbconvert_exporter": "python",
   "pygments_lexer": "ipython3",
   "version": "3.5.2"
  }
 },
 "nbformat": 4,
 "nbformat_minor": 2
}
