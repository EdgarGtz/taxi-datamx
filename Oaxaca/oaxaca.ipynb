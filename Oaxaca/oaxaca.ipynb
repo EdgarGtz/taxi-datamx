{
 "cells": [
  {
   "cell_type": "code",
   "execution_count": 4,
   "metadata": {
    "collapsed": true
   },
   "outputs": [],
   "source": [
    "import pandas as pd"
   ]
  },
  {
   "cell_type": "code",
   "execution_count": 45,
   "metadata": {
    "collapsed": false
   },
   "outputs": [],
   "source": [
    "# Upload files.\n",
    "oaxaca = pd.read_csv('oaxaca_raw_2016.csv', encoding = 'ISO-8859-1')\n",
    "\n",
    "# Extra columns were created. Select only those with data in them.\n",
    "oaxaca = oaxaca[['Id Concesionario', 'Acuerdo', 'Numero Unico de Concesionario', 'Tipo de Persona',\n",
    "        'Nombre del Concesionario', 'FechaAcuerdo', 'FechaVence', 'Municipio', 'Localidad', 'Modalidad', \n",
    "        'FechaCaptura']]\n",
    "\n",
    "# Select data related to taxis.\n",
    "mototaxi = oaxaca[oaxaca['Modalidad'] == 'MOTOTAXI']\n",
    "taxi = oaxaca[oaxaca['Modalidad'] == 'TAXI']\n",
    "oaxaca = mototaxi.append(taxi)\n",
    "\n",
    "# Convert data types.\n",
    "oaxaca['FechaAcuerdo'] = pd.to_datetime(oaxaca['FechaAcuerdo'], errors = 'coerce')\n",
    "oaxaca['FechaVence'] = pd.to_datetime(oaxaca['FechaVence'], errors = 'coerce')\n",
    "oaxaca['FechaCaptura'] = pd.to_datetime(oaxaca['FechaCaptura'], errors = 'coerce')\n",
    "\n",
    "# Reorder columns.\n",
    "oaxaca = oaxaca[['Id Concesionario', 'Nombre del Concesionario', 'FechaVence', 'Acuerdo', \n",
    "                 'Numero Unico de Concesionario', 'Tipo de Persona', 'FechaAcuerdo', 'Municipio','Localidad', \n",
    "                 'Modalidad', 'FechaCaptura']]\n",
    "\n",
    "# Export into a csv file.\n",
    "#oaxaca.to_csv('oaxaca.csv', index = False)"
   ]
  }
 ],
 "metadata": {
  "kernelspec": {
   "display_name": "Python 3",
   "language": "python",
   "name": "python3"
  },
  "language_info": {
   "codemirror_mode": {
    "name": "ipython",
    "version": 3
   },
   "file_extension": ".py",
   "mimetype": "text/x-python",
   "name": "python",
   "nbconvert_exporter": "python",
   "pygments_lexer": "ipython3",
   "version": "3.5.2"
  }
 },
 "nbformat": 4,
 "nbformat_minor": 0
}
