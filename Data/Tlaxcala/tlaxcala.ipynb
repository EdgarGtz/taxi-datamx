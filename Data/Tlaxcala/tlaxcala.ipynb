{
 "cells": [
  {
   "cell_type": "code",
   "execution_count": 1,
   "metadata": {
    "collapsed": true
   },
   "outputs": [],
   "source": [
    "import pandas as pd"
   ]
  },
  {
   "cell_type": "code",
   "execution_count": 2,
   "metadata": {
    "collapsed": false
   },
   "outputs": [],
   "source": [
    "# Use tabula to read pdf files.\n",
    "# http://tabula.technology/\n",
    "\n",
    "# Upload converted csv file.\n",
    "tlaxcala = pd.read_csv('tlaxcala_tabula_2017.csv')\n",
    "\n",
    "# Drop rows with all NaN values.\n",
    "tlaxcala = tlaxcala.dropna(how = 'all')\n",
    "\n",
    "# Rename columns.\n",
    "tlaxcala.columns = ['placa', 'nombre', 'localidad']\n",
    "\n",
    "# Convert text values into lowercase.\n",
    "tlaxcala.nombre = tlaxcala.nombre.str.lower()\n",
    "tlaxcala.localidad = tlaxcala.localidad.str.lower()\n",
    "\n",
    "# Export into a csv file.\n",
    "#tlaxcala.to_csv('tlaxcala.csv', index = False)"
   ]
  }
 ],
 "metadata": {
  "kernelspec": {
   "display_name": "Python 3",
   "language": "python",
   "name": "python3"
  },
  "language_info": {
   "codemirror_mode": {
    "name": "ipython",
    "version": 3
   },
   "file_extension": ".py",
   "mimetype": "text/x-python",
   "name": "python",
   "nbconvert_exporter": "python",
   "pygments_lexer": "ipython3",
   "version": "3.6.0"
  }
 },
 "nbformat": 4,
 "nbformat_minor": 2
}
