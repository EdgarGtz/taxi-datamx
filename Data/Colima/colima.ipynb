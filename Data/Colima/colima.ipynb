{
 "cells": [
  {
   "cell_type": "code",
   "execution_count": 1,
   "metadata": {
    "collapsed": true
   },
   "outputs": [],
   "source": [
    "'''\n",
    "Elaborado por Israel Zuniga de la Mora\n",
    "02/Marzo/2017 @ El Cowork Mty\n",
    "github/israelzuniga\n",
    "'''\n",
    "\n",
    "import pandas as pd"
   ]
  },
  {
   "cell_type": "code",
   "execution_count": 2,
   "metadata": {
    "collapsed": true
   },
   "outputs": [],
   "source": [
    "lista_cabecera = ['XX', 'NUMERO DE PLACA', 'CONCESIONARIO', 'MUNICIPIO_DEL_SITIORUTA', \n",
    "'SITIO_O_RUTA','ECONOMICO', 'USO', 'AGRUPACION', 'FECHA_DE_ULTIMO_MOVIMIENTO', 'DESCRIPCION_DE_SUBMOVIMIENTO']"
   ]
  },
  {
   "cell_type": "code",
   "execution_count": 3,
   "metadata": {
    "collapsed": false
   },
   "outputs": [
    {
     "name": "stderr",
     "output_type": "stream",
     "text": [
      "b'Skipping line 1574: expected 10 fields, saw 11\\nSkipping line 1575: expected 10 fields, saw 11\\nSkipping line 1576: expected 10 fields, saw 11\\nSkipping line 1577: expected 10 fields, saw 11\\nSkipping line 1578: expected 10 fields, saw 11\\nSkipping line 1579: expected 10 fields, saw 11\\nSkipping line 1580: expected 10 fields, saw 11\\nSkipping line 1581: expected 10 fields, saw 11\\nSkipping line 1582: expected 10 fields, saw 11\\nSkipping line 1583: expected 10 fields, saw 11\\nSkipping line 1584: expected 10 fields, saw 11\\nSkipping line 1585: expected 10 fields, saw 11\\nSkipping line 1586: expected 10 fields, saw 11\\nSkipping line 1587: expected 10 fields, saw 11\\nSkipping line 1588: expected 10 fields, saw 11\\nSkipping line 1589: expected 10 fields, saw 11\\nSkipping line 1590: expected 10 fields, saw 11\\nSkipping line 1591: expected 10 fields, saw 11\\nSkipping line 1592: expected 10 fields, saw 11\\nSkipping line 1593: expected 10 fields, saw 11\\nSkipping line 1594: expected 10 fields, saw 11\\nSkipping line 1595: expected 10 fields, saw 11\\nSkipping line 1596: expected 10 fields, saw 11\\nSkipping line 3022: expected 10 fields, saw 11\\nSkipping line 3023: expected 10 fields, saw 11\\nSkipping line 3024: expected 10 fields, saw 11\\nSkipping line 3025: expected 10 fields, saw 11\\nSkipping line 3026: expected 10 fields, saw 11\\nSkipping line 3027: expected 10 fields, saw 11\\nSkipping line 3028: expected 10 fields, saw 11\\nSkipping line 3029: expected 10 fields, saw 11\\nSkipping line 3030: expected 10 fields, saw 11\\nSkipping line 3031: expected 10 fields, saw 11\\nSkipping line 3032: expected 10 fields, saw 11\\nSkipping line 3033: expected 10 fields, saw 11\\nSkipping line 3034: expected 10 fields, saw 11\\nSkipping line 3035: expected 10 fields, saw 11\\nSkipping line 3036: expected 10 fields, saw 11\\nSkipping line 3037: expected 10 fields, saw 11\\nSkipping line 3038: expected 10 fields, saw 11\\nSkipping line 3039: expected 10 fields, saw 11\\nSkipping line 3040: expected 10 fields, saw 11\\nSkipping line 3041: expected 10 fields, saw 11\\nSkipping line 3042: expected 10 fields, saw 11\\nSkipping line 3043: expected 10 fields, saw 11\\nSkipping line 3044: expected 10 fields, saw 11\\n'\n"
     ]
    }
   ],
   "source": [
    "colima = pd.read_csv('tabula-colima_raw_2016.csv', header=None, error_bad_lines=False, encoding='ISO-8859-1')\n",
    "colima.columns = lista_cabecera\n",
    "del colima['XX']\n",
    "\n",
    "\n",
    "\n",
    "\n",
    "for column in colima.keys():\n",
    "    try:\n",
    "        colima[column] = colima[column].str.replace(r'\\r', ' ')\n",
    "    except:\n",
    "        pass"
   ]
  },
  {
   "cell_type": "code",
   "execution_count": 4,
   "metadata": {
    "collapsed": false
   },
   "outputs": [
    {
     "data": {
      "text/html": [
       "<div>\n",
       "<table border=\"1\" class=\"dataframe\">\n",
       "  <thead>\n",
       "    <tr style=\"text-align: right;\">\n",
       "      <th></th>\n",
       "      <th>NUMERO DE PLACA</th>\n",
       "      <th>CONCESIONARIO</th>\n",
       "      <th>MUNICIPIO_DEL_SITIORUTA</th>\n",
       "      <th>SITIO_O_RUTA</th>\n",
       "      <th>ECONOMICO</th>\n",
       "      <th>USO</th>\n",
       "      <th>AGRUPACION</th>\n",
       "      <th>FECHA_DE_ULTIMO_MOVIMIENTO</th>\n",
       "      <th>DESCRIPCION_DE_SUBMOVIMIENTO</th>\n",
       "    </tr>\n",
       "  </thead>\n",
       "  <tbody>\n",
       "    <tr>\n",
       "      <th>0</th>\n",
       "      <td>7692DVA</td>\n",
       "      <td>ABARCA BARAJAS KATIA PAULINA Y NIDIA SELENE</td>\n",
       "      <td>TECOMAN</td>\n",
       "      <td>COL. INFONAVIT-LAS PALMAS</td>\n",
       "      <td>128</td>\n",
       "      <td>INDIVIDUAL - TAXI</td>\n",
       "      <td>C.N.O.P.</td>\n",
       "      <td>21/03/2013</td>\n",
       "      <td>ENAJENACION DE DERECHOS CON VEHICULO NUEVO</td>\n",
       "    </tr>\n",
       "    <tr>\n",
       "      <th>1</th>\n",
       "      <td>7908DVA</td>\n",
       "      <td>ACEVEDO CEJA MARIA</td>\n",
       "      <td>TECOMAN</td>\n",
       "      <td>ISSSTE</td>\n",
       "      <td>164</td>\n",
       "      <td>INDIVIDUAL - TAXI</td>\n",
       "      <td>C.N.O.P.</td>\n",
       "      <td>18/07/2014</td>\n",
       "      <td>CAMBIO DE UNIDAD CON VEHICULO NUEVO</td>\n",
       "    </tr>\n",
       "    <tr>\n",
       "      <th>2</th>\n",
       "      <td>8608DVA</td>\n",
       "      <td>ACEVEDO FARIAS ELIEZER FABIEL</td>\n",
       "      <td>COLIMA</td>\n",
       "      <td>DIEZMO</td>\n",
       "      <td>15</td>\n",
       "      <td>INDIVIDUAL - TAXI</td>\n",
       "      <td>C.N.O.P.</td>\n",
       "      <td>24/01/2013</td>\n",
       "      <td>CAMBIO DE UNIDAD</td>\n",
       "    </tr>\n",
       "    <tr>\n",
       "      <th>3</th>\n",
       "      <td>8829DVA</td>\n",
       "      <td>ACEVEDO FARIAS MARIO</td>\n",
       "      <td>VILLA DE ALVAREZ</td>\n",
       "      <td>COL. MANUEL M. DIEGUEZ</td>\n",
       "      <td>17</td>\n",
       "      <td>INDIVIDUAL - TAXI</td>\n",
       "      <td>C.N.O.P.</td>\n",
       "      <td>21/02/2013</td>\n",
       "      <td>CAMBIO DE UNIDAD</td>\n",
       "    </tr>\n",
       "    <tr>\n",
       "      <th>4</th>\n",
       "      <td>7800DVA</td>\n",
       "      <td>ACOSTA DUEN_AS ENRIQUE</td>\n",
       "      <td>TECOMAN</td>\n",
       "      <td>FRANCISCO JAVIER</td>\n",
       "      <td>78</td>\n",
       "      <td>INDIVIDUAL - TAXI</td>\n",
       "      <td>C.N.O.P.</td>\n",
       "      <td>29/01/2015</td>\n",
       "      <td>CAMBIO DE UNIDAD CON VEHICULO NUEVO</td>\n",
       "    </tr>\n",
       "  </tbody>\n",
       "</table>\n",
       "</div>"
      ],
      "text/plain": [
       "  NUMERO DE PLACA                                 CONCESIONARIO  \\\n",
       "0        7692DVA   ABARCA BARAJAS KATIA PAULINA Y NIDIA SELENE    \n",
       "1        7908DVA                            ACEVEDO CEJA MARIA    \n",
       "2        8608DVA                 ACEVEDO FARIAS ELIEZER FABIEL    \n",
       "3        8829DVA                          ACEVEDO FARIAS MARIO    \n",
       "4        7800DVA                        ACOSTA DUEN_AS ENRIQUE    \n",
       "\n",
       "  MUNICIPIO_DEL_SITIORUTA                SITIO_O_RUTA  ECONOMICO  \\\n",
       "0                TECOMAN   COL. INFONAVIT-LAS PALMAS         128   \n",
       "1                TECOMAN                      ISSSTE         164   \n",
       "2                 COLIMA                      DIEZMO          15   \n",
       "3       VILLA DE ALVAREZ      COL. MANUEL M. DIEGUEZ          17   \n",
       "4                TECOMAN            FRANCISCO JAVIER          78   \n",
       "\n",
       "                  USO AGRUPACION FECHA_DE_ULTIMO_MOVIMIENTO  \\\n",
       "0  INDIVIDUAL - TAXI   C.N.O.P.                 21/03/2013    \n",
       "1  INDIVIDUAL - TAXI   C.N.O.P.                 18/07/2014    \n",
       "2  INDIVIDUAL - TAXI   C.N.O.P.                 24/01/2013    \n",
       "3  INDIVIDUAL - TAXI   C.N.O.P.                 21/02/2013    \n",
       "4  INDIVIDUAL - TAXI   C.N.O.P.                 29/01/2015    \n",
       "\n",
       "                  DESCRIPCION_DE_SUBMOVIMIENTO  \n",
       "0  ENAJENACION DE DERECHOS CON VEHICULO NUEVO   \n",
       "1         CAMBIO DE UNIDAD CON VEHICULO NUEVO   \n",
       "2                            CAMBIO DE UNIDAD   \n",
       "3                            CAMBIO DE UNIDAD   \n",
       "4         CAMBIO DE UNIDAD CON VEHICULO NUEVO   "
      ]
     },
     "execution_count": 4,
     "metadata": {},
     "output_type": "execute_result"
    }
   ],
   "source": [
    "colima.head()"
   ]
  },
  {
   "cell_type": "code",
   "execution_count": 5,
   "metadata": {
    "collapsed": false
   },
   "outputs": [],
   "source": [
    "#colima.to_csv('colima.csv')"
   ]
  },
  {
   "cell_type": "code",
   "execution_count": 6,
   "metadata": {
    "collapsed": false
   },
   "outputs": [
    {
     "name": "stdout",
     "output_type": "stream",
     "text": [
      "MD5 (colima.csv) = ecca3d8eee8bbfa8d218143a4e01a072\r\n"
     ]
    }
   ],
   "source": [
    "!md5 colima.csv"
   ]
  },
  {
   "cell_type": "code",
   "execution_count": null,
   "metadata": {
    "collapsed": true
   },
   "outputs": [],
   "source": []
  }
 ],
 "metadata": {
  "kernelspec": {
   "display_name": "Python 3",
   "language": "python",
   "name": "python3"
  },
  "language_info": {
   "codemirror_mode": {
    "name": "ipython",
    "version": 3
   },
   "file_extension": ".py",
   "mimetype": "text/x-python",
   "name": "python",
   "nbconvert_exporter": "python",
   "pygments_lexer": "ipython3",
   "version": "3.6.0"
  }
 },
 "nbformat": 4,
 "nbformat_minor": 2
}
