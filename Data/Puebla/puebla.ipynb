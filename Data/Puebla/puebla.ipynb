{
 "cells": [
  {
   "cell_type": "code",
   "execution_count": 1,
   "metadata": {
    "collapsed": true
   },
   "outputs": [],
   "source": [
    "import pandas as pd"
   ]
  },
  {
   "cell_type": "code",
   "execution_count": 2,
   "metadata": {
    "collapsed": false
   },
   "outputs": [],
   "source": [
    "# Use tabula to read pdf files.\n",
    "# http://tabula.technology/\n",
    "\n",
    "# Upload converted csv files. \n",
    "puebla = pd.read_csv('puebla_tabula_2017.csv')\n",
    "puebla_local = pd.read_csv('puebla_local_tabula_2017.csv')\n",
    "\n",
    "# Join data sets. \n",
    "puebla = puebla.append(puebla_local, ignore_index = True)\n",
    "\n",
    "# Reorder columns.\n",
    "puebla = puebla[['Permiso', 'Nombre del Titular', 'Municipio de Servicio', 'Tipo de Vehiculo', 'Placa']]\n",
    "\n",
    "# Rename columns.\n",
    "puebla.columns = ['id', 'nombre', 'municipio', 'concesion_tipo', 'placa']\n",
    "\n",
    "# Convert text values to lower case.\n",
    "puebla.nombre = puebla.nombre.str.lower()\n",
    "puebla.municipio = puebla.municipio.str.lower()\n",
    "puebla.concesion_tipo = puebla.concesion_tipo.str.lower()\n",
    "\n",
    "# Export into a csv file.\n",
    "#puebla.to_csv('puebla.csv', index = False)"
   ]
  }
 ],
 "metadata": {
  "kernelspec": {
   "display_name": "Python 3",
   "language": "python",
   "name": "python3"
  },
  "language_info": {
   "codemirror_mode": {
    "name": "ipython",
    "version": 3
   },
   "file_extension": ".py",
   "mimetype": "text/x-python",
   "name": "python",
   "nbconvert_exporter": "python",
   "pygments_lexer": "ipython3",
   "version": "3.5.2"
  }
 },
 "nbformat": 4,
 "nbformat_minor": 0
}
