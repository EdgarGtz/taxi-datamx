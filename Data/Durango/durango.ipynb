{
 "cells": [
  {
   "cell_type": "code",
   "execution_count": 1,
   "metadata": {
    "collapsed": true
   },
   "outputs": [],
   "source": [
    "import pandas as pd"
   ]
  },
  {
   "cell_type": "code",
   "execution_count": 2,
   "metadata": {
    "collapsed": false
   },
   "outputs": [],
   "source": [
    "# Use tabula to read pdf files.\n",
    "# http://tabula.technology/\n",
    "\n",
    "# Upload converted csv file.\n",
    "durango = pd.read_csv('durango_tabula_2016.csv')\n",
    "\n",
    "# Delete 'Modalidad' column. It is unnecessary.\n",
    "del durango['MODALIDAD']\n",
    "\n",
    "# Reorder columns.\n",
    "durango = durango[['NO_PERMISO', 'NOMBRE DEL TITULAR', 'VIGENCIA']]\n",
    "\n",
    "# Rename columns.\n",
    "durango.columns = ['permiso', 'nombre', 'vigencia']\n",
    "\n",
    "# Convert text values to lower case.\n",
    "durango.nombre = durango.nombre.str.lower()\n",
    "durango.vigencia = durango.vigencia.str.lower()\n",
    "\n",
    "# Export into a csv file.\n",
    "#durango.to_csv('durango.csv', index = False)"
   ]
  }
 ],
 "metadata": {
  "kernelspec": {
   "display_name": "Python 3",
   "language": "python",
   "name": "python3"
  },
  "language_info": {
   "codemirror_mode": {
    "name": "ipython",
    "version": 3
   },
   "file_extension": ".py",
   "mimetype": "text/x-python",
   "name": "python",
   "nbconvert_exporter": "python",
   "pygments_lexer": "ipython3",
   "version": "3.6.0"
  }
 },
 "nbformat": 4,
 "nbformat_minor": 2
}
