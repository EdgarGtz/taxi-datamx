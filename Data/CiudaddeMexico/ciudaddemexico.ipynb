{
 "cells": [
  {
   "cell_type": "code",
   "execution_count": 1,
   "metadata": {
    "collapsed": true
   },
   "outputs": [],
   "source": [
    "import pandas as pd"
   ]
  },
  {
   "cell_type": "code",
   "execution_count": 2,
   "metadata": {
    "collapsed": false
   },
   "outputs": [],
   "source": [
    "# Upload each sheet at a time. \n",
    "ciudaddemexico_a = pd.read_excel('ciudaddemexico_raw_2016.xls', sheetname = 'Serie A 00002-A68888', skiprows = 2)\n",
    "ciudaddemexico_b = pd.read_excel('ciudaddemexico_raw_2016.xls', sheetname = 'Serie A 68889-99999')\n",
    "ciudaddemexico_c = pd.read_excel('ciudaddemexico_raw_2016.xls', sheetname = 'Serie B')\n",
    "ciudaddemexico_d = pd.read_excel('ciudaddemexico_raw_2016.xls', sheetname = 'Serie M', parse_cols = 'B:L')\n",
    "ciudaddemexico_e = pd.read_excel('ciudaddemexico_raw_2016.xls', sheetname = 'Taxi Preferente', parse_cols = 'B:J')\n",
    "\n",
    "# First sheet has different column names from the rest. \n",
    "ciudaddemexico_a.rename(columns={'NOMBRE DEL TITULAR y/o RAZÓN SOCIAL': 'NOMBRE'}, inplace = True)\n",
    "ciudaddemexico_a.rename(columns={'APELLIDO PATERNO': 'PATERNO'}, inplace = True)\n",
    "ciudaddemexico_a.rename(columns={'APELLIDO MATERNO': 'MATERNO'}, inplace = True)\n",
    "\n",
    "# Merge sheets.\n",
    "ciudaddemexico_ab = ciudaddemexico_a.append(ciudaddemexico_b, ignore_index = True)\n",
    "ciudaddemexico_abc = ciudaddemexico_ab.append(ciudaddemexico_c, ignore_index = True)\n",
    "ciudaddemexico_abcd = ciudaddemexico_abc.append(ciudaddemexico_d, ignore_index = True)\n",
    "ciudaddemexico = ciudaddemexico_abcd.append(ciudaddemexico_e, ignore_index = True)\n",
    "\n",
    "# Reorder columns.\n",
    "ciudaddemexico = ciudaddemexico[['PLACA', 'NOMBRE', 'PATERNO', 'MATERNO', 'RAZON SOCIAL', 'FECHA DE INICIO',\n",
    "                                 'FECHA DE TERMINO', 'TIPO', 'MARCA','LINEA', 'MODELO', 'COMBUSTIBLE']]\n",
    "\n",
    "# Rename columns.\n",
    "ciudaddemexico.columns = ['id', 'nombre', 'paterno', 'materno', 'razon_social', 'inicio', 'vencimiento', 'auto_tipo',\n",
    "                         'auto_marca', 'auto_linea', 'auto_modelo', 'auto_combustible']\n",
    "\n",
    "# Convert data types.\n",
    "ciudaddemexico.inicio = pd.to_datetime(ciudaddemexico.inicio, errors = 'coerce')\n",
    "ciudaddemexico.vencimiento = pd.to_datetime(ciudaddemexico.vencimiento, errors = 'coerce')\n",
    "\n",
    "# Convert text values to lower case.\n",
    "ciudaddemexico.nombre = ciudaddemexico.nombre.str.lower()\n",
    "ciudaddemexico.paterno = ciudaddemexico.paterno.str.lower()\n",
    "ciudaddemexico.materno = ciudaddemexico.materno.str.lower()\n",
    "ciudaddemexico.razon_social = ciudaddemexico.razon_social.str.lower()\n",
    "ciudaddemexico.auto_tipo = ciudaddemexico.auto_tipo.str.lower()\n",
    "ciudaddemexico.auto_marca = ciudaddemexico.auto_marca.str.lower()\n",
    "ciudaddemexico.auto_linea = ciudaddemexico.auto_linea.str.lower()\n",
    "ciudaddemexico.auto_combustible = ciudaddemexico.auto_combustible.str.lower()\n",
    "\n",
    "# Export into a csv file. \n",
    "#ciudaddemexico.to_csv('ciudaddemexico.csv', index = False) "
   ]
  }
 ],
 "metadata": {
  "kernelspec": {
   "display_name": "Python 3",
   "language": "python",
   "name": "python3"
  },
  "language_info": {
   "codemirror_mode": {
    "name": "ipython",
    "version": 3
   },
   "file_extension": ".py",
   "mimetype": "text/x-python",
   "name": "python",
   "nbconvert_exporter": "python",
   "pygments_lexer": "ipython3",
   "version": "3.5.2"
  }
 },
 "nbformat": 4,
 "nbformat_minor": 0
}
