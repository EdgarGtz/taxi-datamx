{
 "cells": [
  {
   "cell_type": "code",
   "execution_count": 2,
   "metadata": {
    "collapsed": true
   },
   "outputs": [],
   "source": [
    "import pandas as pd"
   ]
  },
  {
   "cell_type": "code",
   "execution_count": 3,
   "metadata": {
    "collapsed": false
   },
   "outputs": [],
   "source": [
    "# Use tabula to read pdf files. Select only sheets that refer to 'Automovil de Alquiler'.\n",
    "# http://tabula.technology/\n",
    "\n",
    "# Upload files.\n",
    "sanluispotosi_altiplano = pd.read_csv('sanluispotosi_altiplano_tabula_2017.csv')\n",
    "sanluispotosi_centro = pd.read_csv('sanluispotosi_centro_tabula_2017.csv')\n",
    "sanluispotosi_conurbada = pd.read_csv('sanluispotosi_conurbada_tabula_2017.csv')\n",
    "sanluispotosi_media = pd.read_csv('sanluispotosi_media_tabula_2017.csv')\n",
    "sanluispotosi_norte = pd.read_csv('sanluispotosi_norte_tabula_2017.csv')\n",
    "sanluispotosi_sur = pd.read_csv('sanluispotosi_sur_tabula_2017.csv')"
   ]
  }
 ],
 "metadata": {
  "kernelspec": {
   "display_name": "Python 3",
   "language": "python",
   "name": "python3"
  },
  "language_info": {
   "codemirror_mode": {
    "name": "ipython",
    "version": 3
   },
   "file_extension": ".py",
   "mimetype": "text/x-python",
   "name": "python",
   "nbconvert_exporter": "python",
   "pygments_lexer": "ipython3",
   "version": "3.5.2"
  }
 },
 "nbformat": 4,
 "nbformat_minor": 2
}
