{
 "cells": [
  {
   "cell_type": "code",
   "execution_count": 1,
   "metadata": {
    "collapsed": true
   },
   "outputs": [],
   "source": [
    "import pandas as pd"
   ]
  },
  {
   "cell_type": "code",
   "execution_count": 2,
   "metadata": {},
   "outputs": [],
   "source": [
    "# Use tabula to read pdf files.\n",
    "# http://tabula.technology/\n",
    "\n",
    "# Upload converted csv file.\n",
    "aguascalientes = pd.read_csv('aguascalientes_tabula_2016.csv')\n",
    "\n",
    "# Add a header.\n",
    "aguascalientes.columns = ['id', 'nombre', 'servicio_publico', 'bien_publico', 'objetivo', 'fundamento_legal',\n",
    "                         'vencimiento', 'inicio', 'tipo_concesion']\n",
    "# Delete first row.\n",
    "aguascalientes = aguascalientes.drop(aguascalientes.index[0])\n",
    "\n",
    "# Delete unnecessary columns.\n",
    "del aguascalientes['servicio_publico']\n",
    "del aguascalientes['bien_publico']\n",
    "del aguascalientes['objetivo']\n",
    "del aguascalientes['fundamento_legal']\n",
    "del aguascalientes['tipo_concesion']\n",
    "\n",
    "# Add a new id column. Past id column skipped some numbers.\n",
    "aguascalientes['id'] = aguascalientes.index \n",
    "\n",
    "# Reorder columns.\n",
    "aguascalientes = aguascalientes[['id', 'nombre', 'inicio', 'vencimiento']]\n",
    "\n",
    "# Convert data types.\n",
    "# Some dates appear on a different format.\n",
    "aguascalientes.inicio = aguascalientes.inicio.str.replace(r' Ene ', '/01/')\n",
    "aguascalientes.inicio = aguascalientes.inicio.str.replace(r' Feb ', '/02/')\n",
    "aguascalientes.inicio = aguascalientes.inicio.str.replace(r' Mar ', '/03/')\n",
    "aguascalientes.inicio = aguascalientes.inicio.str.replace(r' Abr ', '/04/')\n",
    "aguascalientes.inicio = aguascalientes.inicio.str.replace(r' May ', '/05/')\n",
    "aguascalientes.inicio = aguascalientes.inicio.str.replace(r' Jun ', '/06/')\n",
    "aguascalientes.inicio = aguascalientes.inicio.str.replace(r' Jul ', '/07/')\n",
    "aguascalientes.inicio = aguascalientes.inicio.str.replace(r' Ago ', '/08/')\n",
    "aguascalientes.inicio = aguascalientes.inicio.str.replace(r' Sep ', '/09/')\n",
    "aguascalientes.inicio = aguascalientes.inicio.str.replace(r' Oct ', '/10/')\n",
    "aguascalientes.inicio = aguascalientes.inicio.str.replace(r' Nov ', '/11/')\n",
    "aguascalientes.inicio = aguascalientes.inicio.str.replace(r' Dic ', '/12/')\n",
    "\n",
    "aguascalientes.inicio = pd.to_datetime(aguascalientes.inicio)\n",
    "\n",
    "# Convert text values into lower case. \n",
    "aguascalientes.nombre = aguascalientes.nombre.str.lower()\n",
    "\n",
    "# Export into a csv file.\n",
    "#aguascalientes.to_csv('aguascalientes.csv', index = False)"
   ]
  }
 ],
 "metadata": {
  "kernelspec": {
   "display_name": "Python 3",
   "language": "python",
   "name": "python3"
  },
  "language_info": {
   "codemirror_mode": {
    "name": "ipython",
    "version": 3
   },
   "file_extension": ".py",
   "mimetype": "text/x-python",
   "name": "python",
   "nbconvert_exporter": "python",
   "pygments_lexer": "ipython3",
   "version": "3.6.1"
  }
 },
 "nbformat": 4,
 "nbformat_minor": 2
}
