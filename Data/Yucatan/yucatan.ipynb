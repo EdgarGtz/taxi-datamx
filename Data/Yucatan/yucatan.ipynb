{
 "cells": [
  {
   "cell_type": "code",
   "execution_count": 1,
   "metadata": {
    "collapsed": true
   },
   "outputs": [],
   "source": [
    "import pandas as pd"
   ]
  },
  {
   "cell_type": "code",
   "execution_count": 2,
   "metadata": {
    "collapsed": false
   },
   "outputs": [],
   "source": [
    "# Use tabula to read pdf files.\n",
    "# http://tabula.technology/\n",
    "\n",
    "# Upload converted csv file.\n",
    "yucatan = pd.read_csv('yucatan_tabula_2017.csv', names = ('auto_linea', 'auto_marca', 'placa', 'nombre',\n",
    "                                                          'vencimiento'))\n",
    "# Reorder columns.\n",
    "yucatan = yucatan[['placa', 'nombre', 'vencimiento', 'auto_marca', 'auto_linea']]\n",
    "\n",
    "# Remove carriage returns.\n",
    "yucatan.nombre = yucatan.nombre.str.replace(r'\\r', ' ')\n",
    "yucatan.auto_linea = yucatan.auto_linea.str.replace(r'\\r', ' ')\n",
    "\n",
    "# Remove blank space from 'placa' values.\n",
    "yucatan.placa = yucatan.placa.str.replace(r' ', '')\n",
    "\n",
    "# Convert data types.\n",
    "yucatan.vencimiento = pd.to_datetime(yucatan.vencimiento)\n",
    "\n",
    "# Convert text values into lower case.\n",
    "yucatan.nombre = yucatan.nombre.str.lower()\n",
    "yucatan.auto_marca = yucatan.auto_marca.str.lower()\n",
    "yucatan.auto_linea = yucatan.auto_linea.str.lower()\n",
    "\n",
    "# Export into a csv file.\n",
    "#yucatan.to_csv('yucatan.csv', index = False)"
   ]
  }
 ],
 "metadata": {
  "kernelspec": {
   "display_name": "Python 3",
   "language": "python",
   "name": "python3"
  },
  "language_info": {
   "codemirror_mode": {
    "name": "ipython",
    "version": 3
   },
   "file_extension": ".py",
   "mimetype": "text/x-python",
   "name": "python",
   "nbconvert_exporter": "python",
   "pygments_lexer": "ipython3",
   "version": "3.6.0"
  }
 },
 "nbformat": 4,
 "nbformat_minor": 2
}
