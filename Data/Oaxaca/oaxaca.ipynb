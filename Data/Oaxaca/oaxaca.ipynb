{
 "cells": [
  {
   "cell_type": "code",
   "execution_count": 1,
   "metadata": {
    "collapsed": true
   },
   "outputs": [],
   "source": [
    "import pandas as pd"
   ]
  },
  {
   "cell_type": "code",
   "execution_count": 2,
   "metadata": {
    "collapsed": false
   },
   "outputs": [],
   "source": [
    "# Upload files.\n",
    "oaxaca = pd.read_csv('oaxaca_raw_2016.csv', encoding = 'ISO-8859-1')\n",
    "\n",
    "# Extra columns were created. Select only those with data in them.\n",
    "oaxaca = oaxaca[['Id Concesionario', 'Acuerdo', 'Numero Unico de Concesionario', 'Tipo de Persona',\n",
    "        'Nombre del Concesionario', 'FechaAcuerdo', 'FechaVence', 'Municipio', 'Localidad', 'Modalidad', \n",
    "        'FechaCaptura']]\n",
    "\n",
    "# Select data related to taxis.\n",
    "mototaxi = oaxaca[oaxaca['Modalidad'] == 'MOTOTAXI']\n",
    "taxi = oaxaca[oaxaca['Modalidad'] == 'TAXI']\n",
    "oaxaca = mototaxi.append(taxi)\n",
    "\n",
    "# Reorder columns.\n",
    "oaxaca = oaxaca[['Id Concesionario', 'Nombre del Concesionario', 'FechaAcuerdo', 'FechaVence', \n",
    "                 'Municipio', 'Localidad', 'Modalidad', 'Acuerdo','Numero Unico de Concesionario', \n",
    "                 'Tipo de Persona', 'FechaCaptura']]\n",
    "\n",
    "# Rename columns. \n",
    "oaxaca.columns = ['id', 'nombre', 'inicio', 'vencimiento', 'municipio', 'localidad', 'concesion_tipo',\n",
    "                 'permiso', 'numero_concesionario', 'tipo_persona', 'fecha_captura' ]\n",
    "\n",
    "# Convert data types.\n",
    "oaxaca['inicio'] = pd.to_datetime(oaxaca['inicio'], errors = 'coerce')\n",
    "oaxaca['vencimiento'] = pd.to_datetime(oaxaca['vencimiento'], errors = 'coerce')\n",
    "oaxaca['fecha_captura'] = pd.to_datetime(oaxaca['fecha_captura'], errors = 'coerce')\n",
    "\n",
    "# Convert text values to lower case. \n",
    "oaxaca.nombre = oaxaca.nombre.str.lower()\n",
    "oaxaca.municipio = oaxaca.municipio.str.lower()\n",
    "oaxaca.localidad = oaxaca.localidad.str.lower()\n",
    "oaxaca.concesion_tipo = oaxaca.concesion_tipo.str.lower()\n",
    "oaxaca.tipo_persona = oaxaca.tipo_persona.str.lower()\n",
    "\n",
    "\n",
    "# Export into a csv file.\n",
    "#oaxaca.to_csv('oaxaca.csv', index = False)"
   ]
  }
 ],
 "metadata": {
  "kernelspec": {
   "display_name": "Python 3",
   "language": "python",
   "name": "python3"
  },
  "language_info": {
   "codemirror_mode": {
    "name": "ipython",
    "version": 3
   },
   "file_extension": ".py",
   "mimetype": "text/x-python",
   "name": "python",
   "nbconvert_exporter": "python",
   "pygments_lexer": "ipython3",
   "version": "3.5.2"
  }
 },
 "nbformat": 4,
 "nbformat_minor": 0
}
