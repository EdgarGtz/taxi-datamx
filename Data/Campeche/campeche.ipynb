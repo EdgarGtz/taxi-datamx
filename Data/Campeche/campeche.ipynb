{
 "cells": [
  {
   "cell_type": "code",
   "execution_count": 1,
   "metadata": {
    "collapsed": true
   },
   "outputs": [],
   "source": [
    "import pandas as pd"
   ]
  },
  {
   "cell_type": "code",
   "execution_count": 2,
   "metadata": {
    "collapsed": false
   },
   "outputs": [],
   "source": [
    "# Copy and paste rows into an excel sheet. Create a new column named 'Municipio' to show entities. \n",
    "# Export to a csv file.\n",
    "\n",
    "# Upload file.\n",
    "campeche = pd.read_csv('campeche_excel_2017.csv', encoding = 'ISO-8859-1')\n",
    "\n",
    "# Modify first column's name.\n",
    "campeche = campeche.rename(columns = {'NòMERO  ECONîMICO': 'NUMERO ECONOMICO'})\n",
    "\n",
    "# Add an ID column.\n",
    "campeche['ID'] = campeche.index \n",
    "campeche.ID += 1\n",
    "\n",
    "# Reorder columns.\n",
    "campeche = campeche[['ID', 'CONCESIONARIO', 'MUNICIPIO', 'NUMERO ECONOMICO', 'CLAVE MNEMOTCNICA']]\n",
    "\n",
    "# Rename columns.\n",
    "campeche.columns = ['id', 'nombre', 'municipio', 'numero_economico', 'clave_mnemotcnica']\n",
    "\n",
    "# Convert text values to lower case.\n",
    "campeche.nombre = campeche.nombre.str.lower()\n",
    "campeche.municipio = campeche.municipio.str.lower()\n",
    "\n",
    "# Export into a csv file.\n",
    "#campeche.to_csv('campeche.csv', index = False)"
   ]
  }
 ],
 "metadata": {
  "kernelspec": {
   "display_name": "Python 3",
   "language": "python",
   "name": "python3"
  },
  "language_info": {
   "codemirror_mode": {
    "name": "ipython",
    "version": 3
   },
   "file_extension": ".py",
   "mimetype": "text/x-python",
   "name": "python",
   "nbconvert_exporter": "python",
   "pygments_lexer": "ipython3",
   "version": "3.6.0"
  }
 },
 "nbformat": 4,
 "nbformat_minor": 2
}
