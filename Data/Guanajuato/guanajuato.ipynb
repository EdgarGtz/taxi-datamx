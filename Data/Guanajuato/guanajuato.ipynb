{
 "cells": [
  {
   "cell_type": "code",
   "execution_count": 1,
   "metadata": {
    "collapsed": true
   },
   "outputs": [],
   "source": [
    "import pandas as pd"
   ]
  },
  {
   "cell_type": "code",
   "execution_count": 2,
   "metadata": {
    "collapsed": true
   },
   "outputs": [],
   "source": [
    "# Upload file.\n",
    "guanajuato = pd.read_csv('guanajuato_raw_2017.csv')\n",
    "\n",
    "# Reorder columns.\n",
    "guanajuato = guanajuato[['Numero Economico', 'Concesionario', 'Municipio']]\n",
    "\n",
    "# Rename columns.\n",
    "guanajuato.columns = ['id', 'nombre', 'municipio']\n",
    "\n",
    "# Convert text values to lower case. \n",
    "guanajuato.nombre = guanajuato.nombre.str.lower()\n",
    "guanajuato.municipio = guanajuato.municipio.str.lower()\n",
    "\n",
    "# Export into a csv file.\n",
    "#guanajuato.to_csv('guanajuato.csv', index = False)"
   ]
  }
 ],
 "metadata": {
  "kernelspec": {
   "display_name": "Python 3",
   "language": "python",
   "name": "python3"
  },
  "language_info": {
   "codemirror_mode": {
    "name": "ipython",
    "version": 3
   },
   "file_extension": ".py",
   "mimetype": "text/x-python",
   "name": "python",
   "nbconvert_exporter": "python",
   "pygments_lexer": "ipython3",
   "version": "3.5.2"
  }
 },
 "nbformat": 4,
 "nbformat_minor": 0
}
